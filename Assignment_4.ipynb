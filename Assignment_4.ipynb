{
 "cells": [
  {
   "cell_type": "markdown",
   "metadata": {},
   "source": [
    "Assignment 4"
   ]
  },
  {
   "cell_type": "code",
   "execution_count": 1,
   "metadata": {},
   "outputs": [],
   "source": [
    "import numpy as np"
   ]
  },
  {
   "cell_type": "markdown",
   "metadata": {},
   "source": [
    "Q.1 Write a program to create a NumPy 1D-array with 5 elements and perform basic\n",
    "operations like:\\\n",
    "a) Addition of 2 in all the element\\\n",
    "b) Multiply 3 with all the elements\\\n",
    "c) Divide every element by 2"
   ]
  },
  {
   "cell_type": "code",
   "execution_count": 2,
   "metadata": {},
   "outputs": [
    {
     "name": "stdout",
     "output_type": "stream",
     "text": [
      "Original Array: [1 2 3 4 5 6]\n",
      "After Adding 2: [3 4 5 6 7 8]\n",
      "After Multiplying by 3: [ 3  6  9 12 15 18]\n",
      "After Dividing by 2: [0.5 1.  1.5 2.  2.5 3. ]\n"
     ]
    }
   ],
   "source": [
    "arr = np.array([1, 2, 3, 4, 5, 6])\n",
    "\n",
    "arr_plus_2 = arr + 2\n",
    "\n",
    "arr_times_3 = arr * 3\n",
    "\n",
    "arr_by_2 = arr / 2\n",
    "\n",
    "print(\"Original Array:\", arr)\n",
    "print(\"After Adding 2:\", arr_plus_2)\n",
    "print(\"After Multiplying by 3:\", arr_times_3)\n",
    "print(\"After Dividing by 2:\", arr_by_2)"
   ]
  },
  {
   "cell_type": "markdown",
   "metadata": {},
   "source": [
    "Q2: Basic NumPy Array Operations\\\n",
    "(a) Reverse a NumPy array"
   ]
  },
  {
   "cell_type": "code",
   "execution_count": 4,
   "metadata": {},
   "outputs": [
    {
     "name": "stdout",
     "output_type": "stream",
     "text": [
      "Original Array:  [1 5 6 3 4 2]  , reversed array:  [2 4 3 6 5 1]\n"
     ]
    }
   ],
   "source": [
    "arr = np.array([1, 5, 6, 3, 4, 2])\n",
    "\n",
    "arr_rev = arr[::-1]\n",
    "\n",
    "print(\"Original Array: \", arr, \" , reversed array: \", arr_rev)"
   ]
  },
  {
   "cell_type": "markdown",
   "metadata": {},
   "source": [
    "(b) Find the most frequent value and its indices\\\n",
    "i. x = np.array([1,2,3,4,5,1,2,1,1,1])\\\n",
    "ii. y = np.array([1, 1, 1, 2, 3, 4, 2, 4, 3, 3, ])"
   ]
  },
  {
   "cell_type": "code",
   "execution_count": null,
   "metadata": {},
   "outputs": [
    {
     "name": "stdout",
     "output_type": "stream",
     "text": [
      "Most Frequent Value in x: 1, and the Indices: (array([0, 5, 7, 8, 9]),)\n",
      "Most Frequent Value in x: 1, and the Indices: (array([0, 1, 2]),)\n"
     ]
    }
   ],
   "source": [
    "x = np.array([1,2,3,4,5,1,2,1,1,1])\n",
    "max_x = np.bincount(x).argmax()\n",
    "max_x_indices = np.where(x == max_x)\n",
    "\n",
    "y = np.array([1, 1, 1, 2, 3, 4, 2, 4, 3, 3, ])\n",
    "max_y = np.bincount(y).argmax()\n",
    "max_y_indices = np.where(y == max_y)\n",
    "\n",
    "print(f\"Most Frequent Value in x: {max_x}, and the Indices: {max_x_indices}\")\n",
    "print(f\"Most Frequent Value in x: {max_y}, and the Indices: {max_y_indices}\")"
   ]
  },
  {
   "cell_type": "markdown",
   "metadata": {},
   "source": [
    "Q.3 For the given 2-D array arr=np.array([10, 20, 30], [40, 50, 60], [70, 80, 90]), access\n",
    "elements using row and column indices as follows:\\\n",
    "a) Access 1st row, 2nd column\\\n",
    "b) Access 3rd row, 1st column"
   ]
  },
  {
   "cell_type": "code",
   "execution_count": 8,
   "metadata": {},
   "outputs": [
    {
     "name": "stdout",
     "output_type": "stream",
     "text": [
      "Element at 1st row, 2nd column: 20\n",
      "Element at 3rd row, 1st column: 70\n"
     ]
    }
   ],
   "source": [
    "arr = np.array([\n",
    "    [10, 20, 30],\n",
    "    [40, 50, 60],\n",
    "    [70, 80, 90]\n",
    "])\n",
    "\n",
    "print(\"Element at 1st row, 2nd column:\", arr[0, 1])\n",
    "print(\"Element at 3rd row, 1st column:\", arr[2, 0])"
   ]
  },
  {
   "cell_type": "markdown",
   "metadata": {},
   "source": [
    "Q.4 Write program to create an 1-D NumPy array named <<Your Name>> with evenly\n",
    "spaced 25 numbers from 10 to 100 using linspace(). Print the dimensions of the array,\n",
    "shape, total elements, the data type of each element and total number of bytes consumed\n",
    "by the array. Find the transpose of this array using reshape() attribute. Can we do the same\n",
    "with T attribute?"
   ]
  },
  {
   "cell_type": "code",
   "execution_count": 10,
   "metadata": {},
   "outputs": [
    {
     "name": "stdout",
     "output_type": "stream",
     "text": [
      "Array Dimensions: 1\n",
      "Array Shape: (25,)\n",
      "Total Elements: 25\n",
      "Data Type: float64\n",
      "Total Bytes Consumed: 200\n",
      "Can we use .T for 1D array? (25,)\n",
      "Reshaped Transpose Array:\n",
      " [[ 10.  ]\n",
      " [ 13.75]\n",
      " [ 17.5 ]\n",
      " [ 21.25]\n",
      " [ 25.  ]\n",
      " [ 28.75]\n",
      " [ 32.5 ]\n",
      " [ 36.25]\n",
      " [ 40.  ]\n",
      " [ 43.75]\n",
      " [ 47.5 ]\n",
      " [ 51.25]\n",
      " [ 55.  ]\n",
      " [ 58.75]\n",
      " [ 62.5 ]\n",
      " [ 66.25]\n",
      " [ 70.  ]\n",
      " [ 73.75]\n",
      " [ 77.5 ]\n",
      " [ 81.25]\n",
      " [ 85.  ]\n",
      " [ 88.75]\n",
      " [ 92.5 ]\n",
      " [ 96.25]\n",
      " [100.  ]]\n"
     ]
    }
   ],
   "source": [
    "mukul = np.linspace(10, 100, 25)\n",
    "\n",
    "print(\"Array Dimensions:\", mukul.ndim)\n",
    "print(\"Array Shape:\", mukul.shape)\n",
    "print(\"Total Elements:\", mukul.size)\n",
    "print(\"Data Type:\", mukul.dtype)\n",
    "print(\"Total Bytes Consumed:\", mukul.nbytes)\n",
    "\n",
    "transposed_array = mukul.reshape(-1, 1)\n",
    "\n",
    "print(\"Can we use .T for 1D array?\", mukul.T.shape)\n",
    "\n",
    "print(\"Reshaped Transpose Array:\\n\", transposed_array)"
   ]
  },
  {
   "cell_type": "markdown",
   "metadata": {},
   "source": [
    "Q5. Create a 2-D Array of three rows and four columns, named ucs420_<your_name>>\n",
    "with following values – 10, 20, 30, 40, 50, 60, 70, 80, 90, 15, 20, 35. Compute the mean,\n",
    "median, max, min, unique elements. Reshape the array to four rows and three columns and\n",
    "name it as reshaped_ ucs420_<your_name>>. Resize the array to two rows and three\n",
    "columns and name it as resized_ ucs420_<your_name>>."
   ]
  },
  {
   "cell_type": "code",
   "execution_count": 11,
   "metadata": {},
   "outputs": [
    {
     "name": "stdout",
     "output_type": "stream",
     "text": [
      "Mean: 43.333333333333336\n",
      "Median: 37.5\n",
      "Max: 90\n",
      "Min: 10\n",
      "Unique Elements: [10 15 20 30 35 40 50 60 70 80 90]\n",
      "Reshaped Array (4x3):\n",
      " [[10 20 30]\n",
      " [40 50 60]\n",
      " [70 80 90]\n",
      " [15 20 35]]\n",
      "Resized Array (2x6):\n",
      " [[10 20 30 40 50 60]\n",
      " [70 80 90 15 20 35]]\n"
     ]
    }
   ],
   "source": [
    "ucs420_mukul = np.array([\n",
    "    [10, 20, 30, 40],\n",
    "    [50, 60, 70, 80],\n",
    "    [90, 15, 20, 35]\n",
    "])\n",
    "\n",
    "print(\"Mean:\", np.mean(ucs420_mukul))\n",
    "print(\"Median:\", np.median(ucs420_mukul))\n",
    "print(\"Max:\", np.max(ucs420_mukul))\n",
    "print(\"Min:\", np.min(ucs420_mukul))\n",
    "print(\"Unique Elements:\", np.unique(ucs420_mukul))\n",
    "\n",
    "reshaped_ucs420_mukul = ucs420_mukul.reshape(4, 3)\n",
    "print(\"Reshaped Array (4x3):\\n\", reshaped_ucs420_mukul)\n",
    "\n",
    "resized_ucs420_mukul = ucs420_mukul.reshape(2, -1)\n",
    "print(\"Resized Array (2x6):\\n\", resized_ucs420_mukul)"
   ]
  }
 ],
 "metadata": {
  "kernelspec": {
   "display_name": "Python 3",
   "language": "python",
   "name": "python3"
  },
  "language_info": {
   "codemirror_mode": {
    "name": "ipython",
    "version": 3
   },
   "file_extension": ".py",
   "mimetype": "text/x-python",
   "name": "python",
   "nbconvert_exporter": "python",
   "pygments_lexer": "ipython3",
   "version": "3.12.0"
  }
 },
 "nbformat": 4,
 "nbformat_minor": 2
}
