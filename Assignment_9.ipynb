{
 "cells": [
  {
   "cell_type": "markdown",
   "metadata": {},
   "source": [
    "Random paragraph about Marvel's Daredevil"
   ]
  },
  {
   "cell_type": "code",
   "execution_count": 1,
   "metadata": {},
   "outputs": [],
   "source": [
    "text=\"\"\"Marvel's Daredevil follows the story of Matt Murdock, a blind lawyer by day and vigilante by night, who fights crime in Hell’s Kitchen, New York.\n",
    "Blinded in an accident as a child, Matt gains heightened senses that allow him to \"see\" the world in unique ways.\n",
    "The series explores deep moral dilemmas, gritty street justice, and the balance between law and vigilantism.\n",
    "With its dark tone, compelling character arcs, and intense action sequences, Daredevil stands out as one of Marvel’s most critically acclaimed shows.\n",
    "It dives into themes of faith, justice, and the personal cost of heroism.\"\"\""
   ]
  },
  {
   "cell_type": "markdown",
   "metadata": {},
   "source": [
    "Importing dependencies"
   ]
  },
  {
   "cell_type": "code",
   "execution_count": 2,
   "metadata": {},
   "outputs": [
    {
     "name": "stderr",
     "output_type": "stream",
     "text": [
      "[nltk_data] Downloading package punkt to\n",
      "[nltk_data]     C:\\Users\\ASUS\\AppData\\Roaming\\nltk_data...\n",
      "[nltk_data]   Package punkt is already up-to-date!\n",
      "[nltk_data] Downloading package stopwords to\n",
      "[nltk_data]     C:\\Users\\ASUS\\AppData\\Roaming\\nltk_data...\n",
      "[nltk_data]   Package stopwords is already up-to-date!\n",
      "[nltk_data] Downloading collection 'all'\n",
      "[nltk_data]    | \n",
      "[nltk_data]    | Downloading package abc to\n",
      "[nltk_data]    |     C:\\Users\\ASUS\\AppData\\Roaming\\nltk_data...\n",
      "[nltk_data]    |   Package abc is already up-to-date!\n",
      "[nltk_data]    | Downloading package alpino to\n",
      "[nltk_data]    |     C:\\Users\\ASUS\\AppData\\Roaming\\nltk_data...\n",
      "[nltk_data]    |   Package alpino is already up-to-date!\n",
      "[nltk_data]    | Downloading package averaged_perceptron_tagger to\n",
      "[nltk_data]    |     C:\\Users\\ASUS\\AppData\\Roaming\\nltk_data...\n",
      "[nltk_data]    |   Package averaged_perceptron_tagger is already up-\n",
      "[nltk_data]    |       to-date!\n",
      "[nltk_data]    | Downloading package averaged_perceptron_tagger_eng to\n",
      "[nltk_data]    |     C:\\Users\\ASUS\\AppData\\Roaming\\nltk_data...\n",
      "[nltk_data]    |   Package averaged_perceptron_tagger_eng is already\n",
      "[nltk_data]    |       up-to-date!\n",
      "[nltk_data]    | Downloading package averaged_perceptron_tagger_ru to\n",
      "[nltk_data]    |     C:\\Users\\ASUS\\AppData\\Roaming\\nltk_data...\n",
      "[nltk_data]    |   Package averaged_perceptron_tagger_ru is already\n",
      "[nltk_data]    |       up-to-date!\n",
      "[nltk_data]    | Downloading package averaged_perceptron_tagger_rus to\n",
      "[nltk_data]    |     C:\\Users\\ASUS\\AppData\\Roaming\\nltk_data...\n",
      "[nltk_data]    |   Package averaged_perceptron_tagger_rus is already\n",
      "[nltk_data]    |       up-to-date!\n",
      "[nltk_data]    | Downloading package basque_grammars to\n",
      "[nltk_data]    |     C:\\Users\\ASUS\\AppData\\Roaming\\nltk_data...\n",
      "[nltk_data]    |   Package basque_grammars is already up-to-date!\n",
      "[nltk_data]    | Downloading package bcp47 to\n",
      "[nltk_data]    |     C:\\Users\\ASUS\\AppData\\Roaming\\nltk_data...\n",
      "[nltk_data]    |   Package bcp47 is already up-to-date!\n",
      "[nltk_data]    | Downloading package biocreative_ppi to\n",
      "[nltk_data]    |     C:\\Users\\ASUS\\AppData\\Roaming\\nltk_data...\n",
      "[nltk_data]    |   Package biocreative_ppi is already up-to-date!\n",
      "[nltk_data]    | Downloading package bllip_wsj_no_aux to\n",
      "[nltk_data]    |     C:\\Users\\ASUS\\AppData\\Roaming\\nltk_data...\n",
      "[nltk_data]    |   Package bllip_wsj_no_aux is already up-to-date!\n",
      "[nltk_data]    | Downloading package book_grammars to\n",
      "[nltk_data]    |     C:\\Users\\ASUS\\AppData\\Roaming\\nltk_data...\n",
      "[nltk_data]    |   Package book_grammars is already up-to-date!\n",
      "[nltk_data]    | Downloading package brown to\n",
      "[nltk_data]    |     C:\\Users\\ASUS\\AppData\\Roaming\\nltk_data...\n",
      "[nltk_data]    |   Package brown is already up-to-date!\n",
      "[nltk_data]    | Downloading package brown_tei to\n",
      "[nltk_data]    |     C:\\Users\\ASUS\\AppData\\Roaming\\nltk_data...\n",
      "[nltk_data]    |   Package brown_tei is already up-to-date!\n",
      "[nltk_data]    | Downloading package cess_cat to\n",
      "[nltk_data]    |     C:\\Users\\ASUS\\AppData\\Roaming\\nltk_data...\n",
      "[nltk_data]    |   Package cess_cat is already up-to-date!\n",
      "[nltk_data]    | Downloading package cess_esp to\n",
      "[nltk_data]    |     C:\\Users\\ASUS\\AppData\\Roaming\\nltk_data...\n",
      "[nltk_data]    |   Package cess_esp is already up-to-date!\n",
      "[nltk_data]    | Downloading package chat80 to\n",
      "[nltk_data]    |     C:\\Users\\ASUS\\AppData\\Roaming\\nltk_data...\n",
      "[nltk_data]    |   Package chat80 is already up-to-date!\n",
      "[nltk_data]    | Downloading package city_database to\n",
      "[nltk_data]    |     C:\\Users\\ASUS\\AppData\\Roaming\\nltk_data...\n",
      "[nltk_data]    |   Package city_database is already up-to-date!\n",
      "[nltk_data]    | Downloading package cmudict to\n",
      "[nltk_data]    |     C:\\Users\\ASUS\\AppData\\Roaming\\nltk_data...\n",
      "[nltk_data]    |   Package cmudict is already up-to-date!\n",
      "[nltk_data]    | Downloading package comparative_sentences to\n",
      "[nltk_data]    |     C:\\Users\\ASUS\\AppData\\Roaming\\nltk_data...\n",
      "[nltk_data]    |   Package comparative_sentences is already up-to-\n",
      "[nltk_data]    |       date!\n",
      "[nltk_data]    | Downloading package comtrans to\n",
      "[nltk_data]    |     C:\\Users\\ASUS\\AppData\\Roaming\\nltk_data...\n",
      "[nltk_data]    |   Package comtrans is already up-to-date!\n",
      "[nltk_data]    | Downloading package conll2000 to\n",
      "[nltk_data]    |     C:\\Users\\ASUS\\AppData\\Roaming\\nltk_data...\n",
      "[nltk_data]    |   Package conll2000 is already up-to-date!\n",
      "[nltk_data]    | Downloading package conll2002 to\n",
      "[nltk_data]    |     C:\\Users\\ASUS\\AppData\\Roaming\\nltk_data...\n",
      "[nltk_data]    |   Package conll2002 is already up-to-date!\n",
      "[nltk_data]    | Downloading package conll2007 to\n",
      "[nltk_data]    |     C:\\Users\\ASUS\\AppData\\Roaming\\nltk_data...\n",
      "[nltk_data]    |   Package conll2007 is already up-to-date!\n",
      "[nltk_data]    | Downloading package crubadan to\n",
      "[nltk_data]    |     C:\\Users\\ASUS\\AppData\\Roaming\\nltk_data...\n",
      "[nltk_data]    |   Package crubadan is already up-to-date!\n",
      "[nltk_data]    | Downloading package dependency_treebank to\n",
      "[nltk_data]    |     C:\\Users\\ASUS\\AppData\\Roaming\\nltk_data...\n",
      "[nltk_data]    |   Package dependency_treebank is already up-to-date!\n",
      "[nltk_data]    | Downloading package dolch to\n",
      "[nltk_data]    |     C:\\Users\\ASUS\\AppData\\Roaming\\nltk_data...\n",
      "[nltk_data]    |   Package dolch is already up-to-date!\n",
      "[nltk_data]    | Downloading package english_wordnet to\n",
      "[nltk_data]    |     C:\\Users\\ASUS\\AppData\\Roaming\\nltk_data...\n",
      "[nltk_data]    |   Package english_wordnet is already up-to-date!\n",
      "[nltk_data]    | Downloading package europarl_raw to\n",
      "[nltk_data]    |     C:\\Users\\ASUS\\AppData\\Roaming\\nltk_data...\n",
      "[nltk_data]    |   Package europarl_raw is already up-to-date!\n",
      "[nltk_data]    | Downloading package extended_omw to\n",
      "[nltk_data]    |     C:\\Users\\ASUS\\AppData\\Roaming\\nltk_data...\n",
      "[nltk_data]    |   Package extended_omw is already up-to-date!\n",
      "[nltk_data]    | Downloading package floresta to\n",
      "[nltk_data]    |     C:\\Users\\ASUS\\AppData\\Roaming\\nltk_data...\n",
      "[nltk_data]    |   Package floresta is already up-to-date!\n",
      "[nltk_data]    | Downloading package framenet_v15 to\n",
      "[nltk_data]    |     C:\\Users\\ASUS\\AppData\\Roaming\\nltk_data...\n",
      "[nltk_data]    |   Package framenet_v15 is already up-to-date!\n",
      "[nltk_data]    | Downloading package framenet_v17 to\n",
      "[nltk_data]    |     C:\\Users\\ASUS\\AppData\\Roaming\\nltk_data...\n",
      "[nltk_data]    |   Package framenet_v17 is already up-to-date!\n",
      "[nltk_data]    | Downloading package gazetteers to\n",
      "[nltk_data]    |     C:\\Users\\ASUS\\AppData\\Roaming\\nltk_data...\n",
      "[nltk_data]    |   Package gazetteers is already up-to-date!\n",
      "[nltk_data]    | Downloading package genesis to\n",
      "[nltk_data]    |     C:\\Users\\ASUS\\AppData\\Roaming\\nltk_data...\n",
      "[nltk_data]    |   Package genesis is already up-to-date!\n",
      "[nltk_data]    | Downloading package gutenberg to\n",
      "[nltk_data]    |     C:\\Users\\ASUS\\AppData\\Roaming\\nltk_data...\n",
      "[nltk_data]    |   Package gutenberg is already up-to-date!\n",
      "[nltk_data]    | Downloading package ieer to\n",
      "[nltk_data]    |     C:\\Users\\ASUS\\AppData\\Roaming\\nltk_data...\n",
      "[nltk_data]    |   Package ieer is already up-to-date!\n",
      "[nltk_data]    | Downloading package inaugural to\n",
      "[nltk_data]    |     C:\\Users\\ASUS\\AppData\\Roaming\\nltk_data...\n",
      "[nltk_data]    |   Package inaugural is already up-to-date!\n",
      "[nltk_data]    | Downloading package indian to\n",
      "[nltk_data]    |     C:\\Users\\ASUS\\AppData\\Roaming\\nltk_data...\n",
      "[nltk_data]    |   Package indian is already up-to-date!\n",
      "[nltk_data]    | Downloading package jeita to\n",
      "[nltk_data]    |     C:\\Users\\ASUS\\AppData\\Roaming\\nltk_data...\n",
      "[nltk_data]    |   Package jeita is already up-to-date!\n",
      "[nltk_data]    | Downloading package kimmo to\n",
      "[nltk_data]    |     C:\\Users\\ASUS\\AppData\\Roaming\\nltk_data...\n",
      "[nltk_data]    |   Package kimmo is already up-to-date!\n",
      "[nltk_data]    | Downloading package knbc to\n",
      "[nltk_data]    |     C:\\Users\\ASUS\\AppData\\Roaming\\nltk_data...\n",
      "[nltk_data]    |   Package knbc is already up-to-date!\n",
      "[nltk_data]    | Downloading package large_grammars to\n",
      "[nltk_data]    |     C:\\Users\\ASUS\\AppData\\Roaming\\nltk_data...\n",
      "[nltk_data]    |   Package large_grammars is already up-to-date!\n",
      "[nltk_data]    | Downloading package lin_thesaurus to\n",
      "[nltk_data]    |     C:\\Users\\ASUS\\AppData\\Roaming\\nltk_data...\n",
      "[nltk_data]    |   Package lin_thesaurus is already up-to-date!\n",
      "[nltk_data]    | Downloading package mac_morpho to\n",
      "[nltk_data]    |     C:\\Users\\ASUS\\AppData\\Roaming\\nltk_data...\n",
      "[nltk_data]    |   Package mac_morpho is already up-to-date!\n",
      "[nltk_data]    | Downloading package machado to\n",
      "[nltk_data]    |     C:\\Users\\ASUS\\AppData\\Roaming\\nltk_data...\n",
      "[nltk_data]    |   Package machado is already up-to-date!\n",
      "[nltk_data]    | Downloading package masc_tagged to\n",
      "[nltk_data]    |     C:\\Users\\ASUS\\AppData\\Roaming\\nltk_data...\n",
      "[nltk_data]    |   Package masc_tagged is already up-to-date!\n",
      "[nltk_data]    | Downloading package maxent_ne_chunker to\n",
      "[nltk_data]    |     C:\\Users\\ASUS\\AppData\\Roaming\\nltk_data...\n",
      "[nltk_data]    |   Package maxent_ne_chunker is already up-to-date!\n",
      "[nltk_data]    | Downloading package maxent_ne_chunker_tab to\n",
      "[nltk_data]    |     C:\\Users\\ASUS\\AppData\\Roaming\\nltk_data...\n",
      "[nltk_data]    |   Package maxent_ne_chunker_tab is already up-to-\n",
      "[nltk_data]    |       date!\n",
      "[nltk_data]    | Downloading package maxent_treebank_pos_tagger to\n",
      "[nltk_data]    |     C:\\Users\\ASUS\\AppData\\Roaming\\nltk_data...\n",
      "[nltk_data]    |   Package maxent_treebank_pos_tagger is already up-\n",
      "[nltk_data]    |       to-date!\n",
      "[nltk_data]    | Downloading package maxent_treebank_pos_tagger_tab to\n",
      "[nltk_data]    |     C:\\Users\\ASUS\\AppData\\Roaming\\nltk_data...\n",
      "[nltk_data]    |   Package maxent_treebank_pos_tagger_tab is already\n",
      "[nltk_data]    |       up-to-date!\n",
      "[nltk_data]    | Downloading package moses_sample to\n",
      "[nltk_data]    |     C:\\Users\\ASUS\\AppData\\Roaming\\nltk_data...\n",
      "[nltk_data]    |   Package moses_sample is already up-to-date!\n",
      "[nltk_data]    | Downloading package movie_reviews to\n",
      "[nltk_data]    |     C:\\Users\\ASUS\\AppData\\Roaming\\nltk_data...\n",
      "[nltk_data]    |   Package movie_reviews is already up-to-date!\n",
      "[nltk_data]    | Downloading package mte_teip5 to\n",
      "[nltk_data]    |     C:\\Users\\ASUS\\AppData\\Roaming\\nltk_data...\n",
      "[nltk_data]    |   Package mte_teip5 is already up-to-date!\n",
      "[nltk_data]    | Downloading package mwa_ppdb to\n",
      "[nltk_data]    |     C:\\Users\\ASUS\\AppData\\Roaming\\nltk_data...\n",
      "[nltk_data]    |   Package mwa_ppdb is already up-to-date!\n",
      "[nltk_data]    | Downloading package names to\n",
      "[nltk_data]    |     C:\\Users\\ASUS\\AppData\\Roaming\\nltk_data...\n",
      "[nltk_data]    |   Package names is already up-to-date!\n",
      "[nltk_data]    | Downloading package nombank.1.0 to\n",
      "[nltk_data]    |     C:\\Users\\ASUS\\AppData\\Roaming\\nltk_data...\n",
      "[nltk_data]    |   Package nombank.1.0 is already up-to-date!\n",
      "[nltk_data]    | Downloading package nonbreaking_prefixes to\n",
      "[nltk_data]    |     C:\\Users\\ASUS\\AppData\\Roaming\\nltk_data...\n",
      "[nltk_data]    |   Package nonbreaking_prefixes is already up-to-date!\n",
      "[nltk_data]    | Downloading package nps_chat to\n",
      "[nltk_data]    |     C:\\Users\\ASUS\\AppData\\Roaming\\nltk_data...\n",
      "[nltk_data]    |   Package nps_chat is already up-to-date!\n",
      "[nltk_data]    | Downloading package omw to\n",
      "[nltk_data]    |     C:\\Users\\ASUS\\AppData\\Roaming\\nltk_data...\n",
      "[nltk_data]    |   Package omw is already up-to-date!\n",
      "[nltk_data]    | Downloading package omw-1.4 to\n",
      "[nltk_data]    |     C:\\Users\\ASUS\\AppData\\Roaming\\nltk_data...\n",
      "[nltk_data]    |   Package omw-1.4 is already up-to-date!\n",
      "[nltk_data]    | Downloading package opinion_lexicon to\n",
      "[nltk_data]    |     C:\\Users\\ASUS\\AppData\\Roaming\\nltk_data...\n",
      "[nltk_data]    |   Package opinion_lexicon is already up-to-date!\n",
      "[nltk_data]    | Downloading package panlex_swadesh to\n",
      "[nltk_data]    |     C:\\Users\\ASUS\\AppData\\Roaming\\nltk_data...\n",
      "[nltk_data]    |   Package panlex_swadesh is already up-to-date!\n",
      "[nltk_data]    | Downloading package paradigms to\n",
      "[nltk_data]    |     C:\\Users\\ASUS\\AppData\\Roaming\\nltk_data...\n",
      "[nltk_data]    |   Package paradigms is already up-to-date!\n",
      "[nltk_data]    | Downloading package pe08 to\n",
      "[nltk_data]    |     C:\\Users\\ASUS\\AppData\\Roaming\\nltk_data...\n",
      "[nltk_data]    |   Package pe08 is already up-to-date!\n",
      "[nltk_data]    | Downloading package perluniprops to\n",
      "[nltk_data]    |     C:\\Users\\ASUS\\AppData\\Roaming\\nltk_data...\n",
      "[nltk_data]    |   Package perluniprops is already up-to-date!\n",
      "[nltk_data]    | Downloading package pil to\n",
      "[nltk_data]    |     C:\\Users\\ASUS\\AppData\\Roaming\\nltk_data...\n",
      "[nltk_data]    |   Package pil is already up-to-date!\n",
      "[nltk_data]    | Downloading package pl196x to\n",
      "[nltk_data]    |     C:\\Users\\ASUS\\AppData\\Roaming\\nltk_data...\n",
      "[nltk_data]    |   Package pl196x is already up-to-date!\n",
      "[nltk_data]    | Downloading package porter_test to\n",
      "[nltk_data]    |     C:\\Users\\ASUS\\AppData\\Roaming\\nltk_data...\n",
      "[nltk_data]    |   Package porter_test is already up-to-date!\n",
      "[nltk_data]    | Downloading package ppattach to\n",
      "[nltk_data]    |     C:\\Users\\ASUS\\AppData\\Roaming\\nltk_data...\n",
      "[nltk_data]    |   Package ppattach is already up-to-date!\n",
      "[nltk_data]    | Downloading package problem_reports to\n",
      "[nltk_data]    |     C:\\Users\\ASUS\\AppData\\Roaming\\nltk_data...\n",
      "[nltk_data]    |   Package problem_reports is already up-to-date!\n",
      "[nltk_data]    | Downloading package product_reviews_1 to\n",
      "[nltk_data]    |     C:\\Users\\ASUS\\AppData\\Roaming\\nltk_data...\n",
      "[nltk_data]    |   Package product_reviews_1 is already up-to-date!\n",
      "[nltk_data]    | Downloading package product_reviews_2 to\n",
      "[nltk_data]    |     C:\\Users\\ASUS\\AppData\\Roaming\\nltk_data...\n",
      "[nltk_data]    |   Package product_reviews_2 is already up-to-date!\n",
      "[nltk_data]    | Downloading package propbank to\n",
      "[nltk_data]    |     C:\\Users\\ASUS\\AppData\\Roaming\\nltk_data...\n",
      "[nltk_data]    |   Package propbank is already up-to-date!\n",
      "[nltk_data]    | Downloading package pros_cons to\n",
      "[nltk_data]    |     C:\\Users\\ASUS\\AppData\\Roaming\\nltk_data...\n",
      "[nltk_data]    |   Package pros_cons is already up-to-date!\n",
      "[nltk_data]    | Downloading package ptb to\n",
      "[nltk_data]    |     C:\\Users\\ASUS\\AppData\\Roaming\\nltk_data...\n",
      "[nltk_data]    |   Package ptb is already up-to-date!\n",
      "[nltk_data]    | Downloading package punkt to\n",
      "[nltk_data]    |     C:\\Users\\ASUS\\AppData\\Roaming\\nltk_data...\n",
      "[nltk_data]    |   Package punkt is already up-to-date!\n",
      "[nltk_data]    | Downloading package punkt_tab to\n",
      "[nltk_data]    |     C:\\Users\\ASUS\\AppData\\Roaming\\nltk_data...\n",
      "[nltk_data]    |   Package punkt_tab is already up-to-date!\n",
      "[nltk_data]    | Downloading package qc to\n",
      "[nltk_data]    |     C:\\Users\\ASUS\\AppData\\Roaming\\nltk_data...\n",
      "[nltk_data]    |   Package qc is already up-to-date!\n",
      "[nltk_data]    | Downloading package reuters to\n",
      "[nltk_data]    |     C:\\Users\\ASUS\\AppData\\Roaming\\nltk_data...\n",
      "[nltk_data]    |   Package reuters is already up-to-date!\n",
      "[nltk_data]    | Downloading package rslp to\n",
      "[nltk_data]    |     C:\\Users\\ASUS\\AppData\\Roaming\\nltk_data...\n",
      "[nltk_data]    |   Package rslp is already up-to-date!\n",
      "[nltk_data]    | Downloading package rte to\n",
      "[nltk_data]    |     C:\\Users\\ASUS\\AppData\\Roaming\\nltk_data...\n",
      "[nltk_data]    |   Package rte is already up-to-date!\n",
      "[nltk_data]    | Downloading package sample_grammars to\n",
      "[nltk_data]    |     C:\\Users\\ASUS\\AppData\\Roaming\\nltk_data...\n",
      "[nltk_data]    |   Package sample_grammars is already up-to-date!\n",
      "[nltk_data]    | Downloading package semcor to\n",
      "[nltk_data]    |     C:\\Users\\ASUS\\AppData\\Roaming\\nltk_data...\n",
      "[nltk_data]    |   Package semcor is already up-to-date!\n",
      "[nltk_data]    | Downloading package senseval to\n",
      "[nltk_data]    |     C:\\Users\\ASUS\\AppData\\Roaming\\nltk_data...\n",
      "[nltk_data]    |   Package senseval is already up-to-date!\n",
      "[nltk_data]    | Downloading package sentence_polarity to\n",
      "[nltk_data]    |     C:\\Users\\ASUS\\AppData\\Roaming\\nltk_data...\n",
      "[nltk_data]    |   Package sentence_polarity is already up-to-date!\n",
      "[nltk_data]    | Downloading package sentiwordnet to\n",
      "[nltk_data]    |     C:\\Users\\ASUS\\AppData\\Roaming\\nltk_data...\n",
      "[nltk_data]    |   Package sentiwordnet is already up-to-date!\n",
      "[nltk_data]    | Downloading package shakespeare to\n",
      "[nltk_data]    |     C:\\Users\\ASUS\\AppData\\Roaming\\nltk_data...\n",
      "[nltk_data]    |   Package shakespeare is already up-to-date!\n",
      "[nltk_data]    | Downloading package sinica_treebank to\n",
      "[nltk_data]    |     C:\\Users\\ASUS\\AppData\\Roaming\\nltk_data...\n",
      "[nltk_data]    |   Package sinica_treebank is already up-to-date!\n",
      "[nltk_data]    | Downloading package smultron to\n",
      "[nltk_data]    |     C:\\Users\\ASUS\\AppData\\Roaming\\nltk_data...\n",
      "[nltk_data]    |   Package smultron is already up-to-date!\n",
      "[nltk_data]    | Downloading package snowball_data to\n",
      "[nltk_data]    |     C:\\Users\\ASUS\\AppData\\Roaming\\nltk_data...\n",
      "[nltk_data]    |   Package snowball_data is already up-to-date!\n",
      "[nltk_data]    | Downloading package spanish_grammars to\n",
      "[nltk_data]    |     C:\\Users\\ASUS\\AppData\\Roaming\\nltk_data...\n",
      "[nltk_data]    |   Package spanish_grammars is already up-to-date!\n",
      "[nltk_data]    | Downloading package state_union to\n",
      "[nltk_data]    |     C:\\Users\\ASUS\\AppData\\Roaming\\nltk_data...\n",
      "[nltk_data]    |   Package state_union is already up-to-date!\n",
      "[nltk_data]    | Downloading package stopwords to\n",
      "[nltk_data]    |     C:\\Users\\ASUS\\AppData\\Roaming\\nltk_data...\n",
      "[nltk_data]    |   Package stopwords is already up-to-date!\n",
      "[nltk_data]    | Downloading package subjectivity to\n",
      "[nltk_data]    |     C:\\Users\\ASUS\\AppData\\Roaming\\nltk_data...\n",
      "[nltk_data]    |   Package subjectivity is already up-to-date!\n",
      "[nltk_data]    | Downloading package swadesh to\n",
      "[nltk_data]    |     C:\\Users\\ASUS\\AppData\\Roaming\\nltk_data...\n",
      "[nltk_data]    |   Package swadesh is already up-to-date!\n",
      "[nltk_data]    | Downloading package switchboard to\n",
      "[nltk_data]    |     C:\\Users\\ASUS\\AppData\\Roaming\\nltk_data...\n",
      "[nltk_data]    |   Package switchboard is already up-to-date!\n",
      "[nltk_data]    | Downloading package tagsets to\n",
      "[nltk_data]    |     C:\\Users\\ASUS\\AppData\\Roaming\\nltk_data...\n",
      "[nltk_data]    |   Package tagsets is already up-to-date!\n",
      "[nltk_data]    | Downloading package tagsets_json to\n",
      "[nltk_data]    |     C:\\Users\\ASUS\\AppData\\Roaming\\nltk_data...\n",
      "[nltk_data]    |   Package tagsets_json is already up-to-date!\n",
      "[nltk_data]    | Downloading package timit to\n",
      "[nltk_data]    |     C:\\Users\\ASUS\\AppData\\Roaming\\nltk_data...\n",
      "[nltk_data]    |   Package timit is already up-to-date!\n",
      "[nltk_data]    | Downloading package toolbox to\n",
      "[nltk_data]    |     C:\\Users\\ASUS\\AppData\\Roaming\\nltk_data...\n",
      "[nltk_data]    |   Package toolbox is already up-to-date!\n",
      "[nltk_data]    | Downloading package treebank to\n",
      "[nltk_data]    |     C:\\Users\\ASUS\\AppData\\Roaming\\nltk_data...\n",
      "[nltk_data]    |   Package treebank is already up-to-date!\n",
      "[nltk_data]    | Downloading package twitter_samples to\n",
      "[nltk_data]    |     C:\\Users\\ASUS\\AppData\\Roaming\\nltk_data...\n",
      "[nltk_data]    |   Package twitter_samples is already up-to-date!\n",
      "[nltk_data]    | Downloading package udhr to\n",
      "[nltk_data]    |     C:\\Users\\ASUS\\AppData\\Roaming\\nltk_data...\n",
      "[nltk_data]    |   Package udhr is already up-to-date!\n",
      "[nltk_data]    | Downloading package udhr2 to\n",
      "[nltk_data]    |     C:\\Users\\ASUS\\AppData\\Roaming\\nltk_data...\n",
      "[nltk_data]    |   Package udhr2 is already up-to-date!\n",
      "[nltk_data]    | Downloading package unicode_samples to\n",
      "[nltk_data]    |     C:\\Users\\ASUS\\AppData\\Roaming\\nltk_data...\n",
      "[nltk_data]    |   Package unicode_samples is already up-to-date!\n",
      "[nltk_data]    | Downloading package universal_tagset to\n",
      "[nltk_data]    |     C:\\Users\\ASUS\\AppData\\Roaming\\nltk_data...\n",
      "[nltk_data]    |   Package universal_tagset is already up-to-date!\n",
      "[nltk_data]    | Downloading package universal_treebanks_v20 to\n",
      "[nltk_data]    |     C:\\Users\\ASUS\\AppData\\Roaming\\nltk_data...\n",
      "[nltk_data]    |   Package universal_treebanks_v20 is already up-to-\n",
      "[nltk_data]    |       date!\n",
      "[nltk_data]    | Downloading package vader_lexicon to\n",
      "[nltk_data]    |     C:\\Users\\ASUS\\AppData\\Roaming\\nltk_data...\n",
      "[nltk_data]    |   Package vader_lexicon is already up-to-date!\n",
      "[nltk_data]    | Downloading package verbnet to\n",
      "[nltk_data]    |     C:\\Users\\ASUS\\AppData\\Roaming\\nltk_data...\n",
      "[nltk_data]    |   Package verbnet is already up-to-date!\n",
      "[nltk_data]    | Downloading package verbnet3 to\n",
      "[nltk_data]    |     C:\\Users\\ASUS\\AppData\\Roaming\\nltk_data...\n",
      "[nltk_data]    |   Package verbnet3 is already up-to-date!\n",
      "[nltk_data]    | Downloading package webtext to\n",
      "[nltk_data]    |     C:\\Users\\ASUS\\AppData\\Roaming\\nltk_data...\n",
      "[nltk_data]    |   Package webtext is already up-to-date!\n",
      "[nltk_data]    | Downloading package wmt15_eval to\n",
      "[nltk_data]    |     C:\\Users\\ASUS\\AppData\\Roaming\\nltk_data...\n",
      "[nltk_data]    |   Package wmt15_eval is already up-to-date!\n",
      "[nltk_data]    | Downloading package word2vec_sample to\n",
      "[nltk_data]    |     C:\\Users\\ASUS\\AppData\\Roaming\\nltk_data...\n",
      "[nltk_data]    |   Package word2vec_sample is already up-to-date!\n",
      "[nltk_data]    | Downloading package wordnet to\n",
      "[nltk_data]    |     C:\\Users\\ASUS\\AppData\\Roaming\\nltk_data...\n",
      "[nltk_data]    |   Package wordnet is already up-to-date!\n",
      "[nltk_data]    | Downloading package wordnet2021 to\n",
      "[nltk_data]    |     C:\\Users\\ASUS\\AppData\\Roaming\\nltk_data...\n",
      "[nltk_data]    |   Package wordnet2021 is already up-to-date!\n",
      "[nltk_data]    | Downloading package wordnet2022 to\n",
      "[nltk_data]    |     C:\\Users\\ASUS\\AppData\\Roaming\\nltk_data...\n",
      "[nltk_data]    |   Package wordnet2022 is already up-to-date!\n",
      "[nltk_data]    | Downloading package wordnet31 to\n",
      "[nltk_data]    |     C:\\Users\\ASUS\\AppData\\Roaming\\nltk_data...\n",
      "[nltk_data]    |   Package wordnet31 is already up-to-date!\n",
      "[nltk_data]    | Downloading package wordnet_ic to\n",
      "[nltk_data]    |     C:\\Users\\ASUS\\AppData\\Roaming\\nltk_data...\n",
      "[nltk_data]    |   Package wordnet_ic is already up-to-date!\n",
      "[nltk_data]    | Downloading package words to\n",
      "[nltk_data]    |     C:\\Users\\ASUS\\AppData\\Roaming\\nltk_data...\n",
      "[nltk_data]    |   Package words is already up-to-date!\n",
      "[nltk_data]    | Downloading package ycoe to\n",
      "[nltk_data]    |     C:\\Users\\ASUS\\AppData\\Roaming\\nltk_data...\n",
      "[nltk_data]    |   Package ycoe is already up-to-date!\n",
      "[nltk_data]    | \n",
      "[nltk_data]  Done downloading collection all\n"
     ]
    },
    {
     "data": {
      "text/plain": [
       "True"
      ]
     },
     "execution_count": 2,
     "metadata": {},
     "output_type": "execute_result"
    }
   ],
   "source": [
    "import nltk\n",
    "import string\n",
    "from nltk.corpus import stopwords\n",
    "from nltk.tokenize import word_tokenize, sent_tokenize\n",
    "from collections import Counter\n",
    "\n",
    "nltk.download('punkt')\n",
    "nltk.download('stopwords')\n",
    "nltk.download('all')"
   ]
  },
  {
   "cell_type": "markdown",
   "metadata": {},
   "source": [
    "Conerting to lower case and removing punctuation"
   ]
  },
  {
   "cell_type": "code",
   "execution_count": 3,
   "metadata": {},
   "outputs": [
    {
     "name": "stdout",
     "output_type": "stream",
     "text": [
      "marvel's daredevil follows the story of matt murdock, a blind lawyer by day and vigilante by night, who fights crime in hell’s kitchen, new york.\n",
      "blinded in an accident as a child, matt gains heightened senses that allow him to \"see\" the world in unique ways.\n",
      "the series explores deep moral dilemmas, gritty street justice, and the balance between law and vigilantism.\n",
      "with its dark tone, compelling character arcs, and intense action sequences, daredevil stands out as one of marvel’s most critically acclaimed shows.\n",
      "it dives into themes of faith, justice, and the personal cost of heroism.\n",
      "marvels daredevil follows the story of matt murdock a blind lawyer by day and vigilante by night who fights crime in hell’s kitchen new york\n",
      "blinded in an accident as a child matt gains heightened senses that allow him to see the world in unique ways\n",
      "the series explores deep moral dilemmas gritty street justice and the balance between law and vigilantism\n",
      "with its dark tone compelling character arcs and intense action sequences daredevil stands out as one of marvel’s most critically acclaimed shows\n",
      "it dives into themes of faith justice and the personal cost of heroism\n"
     ]
    }
   ],
   "source": [
    "# Converting to lowercase\n",
    "lower_text = text.lower()\n",
    "print(lower_text)\n",
    "\n",
    "# Removing punctuation\n",
    "cleaned_text = lower_text.translate(str.maketrans('', '', string.punctuation))\n",
    "print(cleaned_text)"
   ]
  },
  {
   "cell_type": "markdown",
   "metadata": {},
   "source": [
    "Tokenizing into words and sentences"
   ]
  },
  {
   "cell_type": "code",
   "execution_count": 4,
   "metadata": {},
   "outputs": [
    {
     "name": "stdout",
     "output_type": "stream",
     "text": [
      "['marvels', 'daredevil', 'follows', 'the', 'story', 'of', 'matt', 'murdock', 'a', 'blind', 'lawyer', 'by', 'day', 'and', 'vigilante', 'by', 'night', 'who', 'fights', 'crime', 'in', 'hell', '’', 's', 'kitchen', 'new', 'york', 'blinded', 'in', 'an', 'accident', 'as', 'a', 'child', 'matt', 'gains', 'heightened', 'senses', 'that', 'allow', 'him', 'to', 'see', 'the', 'world', 'in', 'unique', 'ways', 'the', 'series', 'explores', 'deep', 'moral', 'dilemmas', 'gritty', 'street', 'justice', 'and', 'the', 'balance', 'between', 'law', 'and', 'vigilantism', 'with', 'its', 'dark', 'tone', 'compelling', 'character', 'arcs', 'and', 'intense', 'action', 'sequences', 'daredevil', 'stands', 'out', 'as', 'one', 'of', 'marvel', '’', 's', 'most', 'critically', 'acclaimed', 'shows', 'it', 'dives', 'into', 'themes', 'of', 'faith', 'justice', 'and', 'the', 'personal', 'cost', 'of', 'heroism']\n",
      "['marvels daredevil follows the story of matt murdock a blind lawyer by day and vigilante by night who fights crime in hell’s kitchen new york\\nblinded in an accident as a child matt gains heightened senses that allow him to see the world in unique ways\\nthe series explores deep moral dilemmas gritty street justice and the balance between law and vigilantism\\nwith its dark tone compelling character arcs and intense action sequences daredevil stands out as one of marvel’s most critically acclaimed shows\\nit dives into themes of faith justice and the personal cost of heroism']\n"
     ]
    }
   ],
   "source": [
    "word_tokens = word_tokenize(cleaned_text)\n",
    "print(word_tokens)\n",
    "\n",
    "sent_tokens = sent_tokenize(cleaned_text)\n",
    "print(sent_tokens)"
   ]
  },
  {
   "cell_type": "markdown",
   "metadata": {},
   "source": [
    "Removing stopwords"
   ]
  },
  {
   "cell_type": "code",
   "execution_count": 5,
   "metadata": {},
   "outputs": [
    {
     "name": "stdout",
     "output_type": "stream",
     "text": [
      "{'wouldn', 'should', 'ourselves', 'how', 'again', 'who', 'why', \"aren't\", 'no', 'the', 'there', 'ma', \"he'll\", \"haven't\", 'too', 'me', 'down', 'herself', 'will', \"it's\", 'it', 'each', 'isn', \"she'll\", 'about', 'from', 'that', 'as', 'to', \"we'll\", \"they'd\", \"she's\", 'and', 'so', \"we'd\", 'few', 'is', 'your', 'between', 'more', 'don', 'm', \"she'd\", 'he', \"doesn't\", 'weren', 'are', 'him', 'ain', 'or', 'll', 'out', \"couldn't\", 'for', \"it'd\", 'own', 'here', 'doing', \"they've\", 'other', 'can', 'has', \"i'm\", 'during', 'whom', \"i've\", 'very', \"shan't\", 'himself', \"i'll\", \"you'd\", 'but', 'our', 'themselves', 'in', 'if', 'hers', \"they're\", \"won't\", 'their', \"he'd\", 'have', 'against', 'an', 'at', \"hasn't\", \"we're\", \"i'd\", 'wasn', 'where', 'those', 'up', 'had', \"hadn't\", \"isn't\", 'o', \"you're\", \"shouldn't\", 'yourselves', 'we', 'same', 'yours', \"you'll\", 'i', \"mightn't\", 'a', 'does', 'not', \"he's\", 'through', 'be', 'only', 'just', 'than', \"mustn't\", 'mustn', 'once', 'this', \"don't\", 'them', 'myself', 'now', 'then', 'because', 'these', 'couldn', 'nor', 'was', 'hasn', 'they', 'into', \"you've\", 'by', 'which', 're', 'aren', 'd', 'his', \"wasn't\", 'were', 'theirs', 'all', 'did', 'below', 'haven', \"it'll\", 'of', 've', 'been', 'what', 'any', 'before', \"they'll\", 'mightn', 'such', \"should've\", 'after', 'you', 'yourself', 'both', 'with', \"wouldn't\", 'she', 'under', 'above', 'further', 'am', 't', 'do', \"needn't\", 'having', 'itself', \"weren't\", 'y', 'hadn', \"didn't\", 'her', 'over', 'when', 'shan', 'some', \"we've\", 'most', 's', 'off', 'on', 'ours', \"that'll\", 'being', 'while', 'shouldn', 'won', 'needn', 'didn', 'until', 'my', 'doesn', 'its'}\n",
      "['marvels', 'daredevil', 'follows', 'story', 'matt', 'murdock', 'blind', 'lawyer', 'day', 'vigilante', 'night', 'fights', 'crime', 'hell', '’', 'kitchen', 'new', 'york', 'blinded', 'accident', 'child', 'matt', 'gains', 'heightened', 'senses', 'allow', 'see', 'world', 'unique', 'ways', 'series', 'explores', 'deep', 'moral', 'dilemmas', 'gritty', 'street', 'justice', 'balance', 'law', 'vigilantism', 'dark', 'tone', 'compelling', 'character', 'arcs', 'intense', 'action', 'sequences', 'daredevil', 'stands', 'one', 'marvel', '’', 'critically', 'acclaimed', 'shows', 'dives', 'themes', 'faith', 'justice', 'personal', 'cost', 'heroism']\n"
     ]
    }
   ],
   "source": [
    "stop_words=set(stopwords.words('english'))\n",
    "print(stop_words)\n",
    "\n",
    "filtered_words=[w for w in word_tokens if w not in stop_words]\n",
    "print(filtered_words)"
   ]
  },
  {
   "cell_type": "markdown",
   "metadata": {},
   "source": [
    "Calculating word frequency distributions"
   ]
  },
  {
   "cell_type": "code",
   "execution_count": 6,
   "metadata": {},
   "outputs": [
    {
     "name": "stdout",
     "output_type": "stream",
     "text": [
      "Word Frequency Distribution:\n",
      " Counter({'daredevil': 2, 'matt': 2, '’': 2, 'justice': 2, 'marvels': 1, 'follows': 1, 'story': 1, 'murdock': 1, 'blind': 1, 'lawyer': 1, 'day': 1, 'vigilante': 1, 'night': 1, 'fights': 1, 'crime': 1, 'hell': 1, 'kitchen': 1, 'new': 1, 'york': 1, 'blinded': 1, 'accident': 1, 'child': 1, 'gains': 1, 'heightened': 1, 'senses': 1, 'allow': 1, 'see': 1, 'world': 1, 'unique': 1, 'ways': 1, 'series': 1, 'explores': 1, 'deep': 1, 'moral': 1, 'dilemmas': 1, 'gritty': 1, 'street': 1, 'balance': 1, 'law': 1, 'vigilantism': 1, 'dark': 1, 'tone': 1, 'compelling': 1, 'character': 1, 'arcs': 1, 'intense': 1, 'action': 1, 'sequences': 1, 'stands': 1, 'one': 1, 'marvel': 1, 'critically': 1, 'acclaimed': 1, 'shows': 1, 'dives': 1, 'themes': 1, 'faith': 1, 'personal': 1, 'cost': 1, 'heroism': 1})\n"
     ]
    }
   ],
   "source": [
    "word_freq = Counter(filtered_words)\n",
    "print(\"Word Frequency Distribution:\\n\", word_freq)"
   ]
  },
  {
   "cell_type": "markdown",
   "metadata": {},
   "source": [
    "Stemming and Lemmatization"
   ]
  },
  {
   "cell_type": "code",
   "execution_count": 7,
   "metadata": {},
   "outputs": [
    {
     "name": "stderr",
     "output_type": "stream",
     "text": [
      "[nltk_data] Downloading package wordnet to\n",
      "[nltk_data]     C:\\Users\\ASUS\\AppData\\Roaming\\nltk_data...\n",
      "[nltk_data]   Package wordnet is already up-to-date!\n",
      "[nltk_data] Downloading package omw-1.4 to\n",
      "[nltk_data]     C:\\Users\\ASUS\\AppData\\Roaming\\nltk_data...\n",
      "[nltk_data]   Package omw-1.4 is already up-to-date!\n"
     ]
    }
   ],
   "source": [
    "from nltk.stem import PorterStemmer, LancasterStemmer, WordNetLemmatizer\n",
    "nltk.download('wordnet')\n",
    "nltk.download('omw-1.4')\n",
    "\n",
    "porter = PorterStemmer()\n",
    "lancaster = LancasterStemmer()\n",
    "lemmatizer = WordNetLemmatizer()"
   ]
  },
  {
   "cell_type": "markdown",
   "metadata": {},
   "source": [
    "Applying stemming and lemmatization"
   ]
  },
  {
   "cell_type": "code",
   "execution_count": 8,
   "metadata": {},
   "outputs": [
    {
     "name": "stdout",
     "output_type": "stream",
     "text": [
      "Porter Stemmer:\n",
      " ['marvel', 'daredevil', 'follow', 'stori', 'matt', 'murdock', 'blind', 'lawyer', 'day', 'vigilant', 'night', 'fight', 'crime', 'hell', '’', 'kitchen', 'new', 'york', 'blind', 'accid', 'child', 'matt', 'gain', 'heighten', 'sens', 'allow', 'see', 'world', 'uniqu', 'way', 'seri', 'explor', 'deep', 'moral', 'dilemma', 'gritti', 'street', 'justic', 'balanc', 'law', 'vigilant', 'dark', 'tone', 'compel', 'charact', 'arc', 'intens', 'action', 'sequenc', 'daredevil', 'stand', 'one', 'marvel', '’', 'critic', 'acclaim', 'show', 'dive', 'theme', 'faith', 'justic', 'person', 'cost', 'heroism']\n",
      "Lancaster Stemmer:\n",
      " ['marvel', 'daredevil', 'follow', 'story', 'mat', 'murdock', 'blind', 'lawy', 'day', 'vigil', 'night', 'fight', 'crim', 'hel', '’', 'kitch', 'new', 'york', 'blind', 'accid', 'child', 'mat', 'gain', 'height', 'sens', 'allow', 'see', 'world', 'un', 'way', 'sery', 'expl', 'deep', 'mor', 'dilemma', 'gritty', 'street', 'just', 'bal', 'law', 'vigil', 'dark', 'ton', 'compel', 'charact', 'arc', 'intens', 'act', 'sequ', 'daredevil', 'stand', 'on', 'marvel', '’', 'crit', 'acclaim', 'show', 'div', 'them', 'fai', 'just', 'person', 'cost', 'hero']\n",
      "Lemmatized:\n",
      " ['marvel', 'daredevil', 'follows', 'story', 'matt', 'murdock', 'blind', 'lawyer', 'day', 'vigilante', 'night', 'fight', 'crime', 'hell', '’', 'kitchen', 'new', 'york', 'blinded', 'accident', 'child', 'matt', 'gain', 'heightened', 'sens', 'allow', 'see', 'world', 'unique', 'way', 'series', 'explores', 'deep', 'moral', 'dilemma', 'gritty', 'street', 'justice', 'balance', 'law', 'vigilantism', 'dark', 'tone', 'compelling', 'character', 'arc', 'intense', 'action', 'sequence', 'daredevil', 'stand', 'one', 'marvel', '’', 'critically', 'acclaimed', 'show', 'dive', 'theme', 'faith', 'justice', 'personal', 'cost', 'heroism']\n"
     ]
    }
   ],
   "source": [
    "porter_stems = [porter.stem(w) for w in filtered_words]\n",
    "lancaster_stems = [lancaster.stem(w) for w in filtered_words]\n",
    "lemmatized_words = [lemmatizer.lemmatize(w) for w in filtered_words]\n",
    "\n",
    "print(\"Porter Stemmer:\\n\", porter_stems)\n",
    "print(\"Lancaster Stemmer:\\n\", lancaster_stems)\n",
    "print(\"Lemmatized:\\n\", lemmatized_words)"
   ]
  },
  {
   "cell_type": "markdown",
   "metadata": {},
   "source": [
    "Regular Expressions and Text Splitting"
   ]
  },
  {
   "cell_type": "code",
   "execution_count": 9,
   "metadata": {},
   "outputs": [],
   "source": [
    "import re"
   ]
  },
  {
   "cell_type": "markdown",
   "metadata": {},
   "source": [
    "Words with more than 5 letters:"
   ]
  },
  {
   "cell_type": "code",
   "execution_count": 19,
   "metadata": {},
   "outputs": [
    {
     "name": "stdout",
     "output_type": "stream",
     "text": [
      "Words with >5 letters:  ['Marvel', 'Daredevil', 'follows', 'Murdock', 'lawyer', 'vigilante', 'fights', 'Kitchen', 'Blinded', 'accident', 'heightened', 'senses', 'unique', 'series', 'explores', 'dilemmas', 'gritty', 'street', 'justice', 'balance', 'between', 'vigilantism', 'compelling', 'character', 'intense', 'action', 'sequences', 'Daredevil', 'stands', 'Marvel', 'critically', 'acclaimed', 'themes', 'justice', 'personal', 'heroism']\n"
     ]
    }
   ],
   "source": [
    "long_words = re.findall(r'\\b\\w{6,}\\b', text)\n",
    "print(\"Words with >5 letters: \", long_words)"
   ]
  },
  {
   "cell_type": "markdown",
   "metadata": {},
   "source": [
    "Numbers"
   ]
  },
  {
   "cell_type": "code",
   "execution_count": 21,
   "metadata": {},
   "outputs": [
    {
     "name": "stdout",
     "output_type": "stream",
     "text": [
      "Numbers:  []\n"
     ]
    }
   ],
   "source": [
    "numbers = re.findall(r'\\b\\d+\\b', text)\n",
    "print(\"Numbers: \", numbers)"
   ]
  },
  {
   "cell_type": "markdown",
   "metadata": {},
   "source": [
    "Capitalized Words"
   ]
  },
  {
   "cell_type": "code",
   "execution_count": 27,
   "metadata": {},
   "outputs": [
    {
     "name": "stdout",
     "output_type": "stream",
     "text": [
      "Capitalized Words:  ['Marvel', 'Daredevil', 'Matt', 'Murdock', 'Hell', 'Kitchen', 'New', 'York', 'Blinded', 'Matt', 'The', 'With', 'Daredevil', 'Marvel', 'It']\n"
     ]
    }
   ],
   "source": [
    "capitalized_words = re.findall(r'\\b[A-Z][a-z]*\\b', text)\n",
    "print(\"Capitalized Words: \", capitalized_words)"
   ]
  },
  {
   "cell_type": "markdown",
   "metadata": {},
   "source": [
    "Split into only alphabetic words"
   ]
  },
  {
   "cell_type": "code",
   "execution_count": 29,
   "metadata": {},
   "outputs": [
    {
     "name": "stdout",
     "output_type": "stream",
     "text": [
      "Alphabetic Words:  ['Marvel', 's', 'Daredevil', 'follows', 'the', 'story', 'of', 'Matt', 'Murdock', 'a', 'blind', 'lawyer', 'by', 'day', 'and', 'vigilante', 'by', 'night', 'who', 'fights', 'crime', 'in', 'Hell', 's', 'Kitchen', 'New', 'York', 'Blinded', 'in', 'an', 'accident', 'as', 'a', 'child', 'Matt', 'gains', 'heightened', 'senses', 'that', 'allow', 'him', 'to', 'see', 'the', 'world', 'in', 'unique', 'ways', 'The', 'series', 'explores', 'deep', 'moral', 'dilemmas', 'gritty', 'street', 'justice', 'and', 'the', 'balance', 'between', 'law', 'and', 'vigilantism', 'With', 'its', 'dark', 'tone', 'compelling', 'character', 'arcs', 'and', 'intense', 'action', 'sequences', 'Daredevil', 'stands', 'out', 'as', 'one', 'of', 'Marvel', 's', 'most', 'critically', 'acclaimed', 'shows', 'It', 'dives', 'into', 'themes', 'of', 'faith', 'justice', 'and', 'the', 'personal', 'cost', 'of', 'heroism']\n"
     ]
    }
   ],
   "source": [
    "alpha_words = re.findall(r'\\b[a-zA-Z]+\\b', text)\n",
    "print(\"Alphabetic Words: \", alpha_words)"
   ]
  },
  {
   "cell_type": "markdown",
   "metadata": {},
   "source": [
    "Words starting with a vowel"
   ]
  },
  {
   "cell_type": "code",
   "execution_count": null,
   "metadata": {},
   "outputs": [],
   "source": [
    "vowel_words = re.findall(r'\\b[aeiouAEIOU][a-zA-Z]*\\b', text)\n",
    "print(\"Words starting with vowels: \", vowel_words)"
   ]
  },
  {
   "cell_type": "markdown",
   "metadata": {},
   "source": [
    "Custom Tokenization & Regex-Based Cleaning"
   ]
  },
  {
   "cell_type": "code",
   "execution_count": 31,
   "metadata": {},
   "outputs": [
    {
     "name": "stdout",
     "output_type": "stream",
     "text": [
      "Custom Tokens:\n",
      " [\"Marvel's\", 'Daredevil', 'follows', 'the', 'story', 'of', 'Matt', 'Murdock', 'a', 'blind', 'lawyer', 'by', 'day', 'and', 'vigilante', 'by', 'night', 'who', 'fights', 'crime', 'in', 'Hell', 's', 'Kitchen', 'New', 'York', 'Blinded', 'in', 'an', 'accident', 'as', 'a', 'child', 'Matt', 'gains', 'heightened', 'senses', 'that', 'allow', 'him', 'to', 'see', 'the', 'world', 'in', 'unique', 'ways', 'The', 'series', 'explores', 'deep', 'moral', 'dilemmas', 'gritty', 'street', 'justice', 'and', 'the', 'balance', 'between', 'law', 'and', 'vigilantism', 'With', 'its', 'dark', 'tone', 'compelling', 'character', 'arcs', 'and', 'intense', 'action', 'sequences', 'Daredevil', 'stands', 'out', 'as', 'one', 'of', 'Marvel', 's', 'most', 'critically', 'acclaimed', 'shows', 'It', 'dives', 'into', 'themes', 'of', 'faith', 'justice', 'and', 'the', 'personal', 'cost', 'of', 'heroism']\n",
      "Text after regex cleaning:\n",
      " Marvel's Daredevil follows the story of Matt Murdock, a blind lawyer by day and vigilante by night, who fights crime in Hell’s Kitchen, New York.\n",
      "Blinded in an accident as a child, Matt gains heightened senses that allow him to \"see\" the world in unique ways.\n",
      "The series explores deep moral dilemmas, gritty street justice, and the balance between law and vigilantism.\n",
      "With its dark tone, compelling character arcs, and intense action sequences, Daredevil stands out as one of Marvel’s most critically acclaimed shows.\n",
      "It dives into themes of faith, justice, and the personal cost of heroism.\n"
     ]
    }
   ],
   "source": [
    "def custom_tokenizer(text):\n",
    "    ## Keep contractions, hyphenated words, and decimals\n",
    "    pattern = r\"\\b(?:[A-Za-z]+(?:['-][A-Za-z]+)*)|\\d+(?:\\.\\d+)?\\b\"\n",
    "    return re.findall(pattern, text)\n",
    "\n",
    "## Regex substitutions\n",
    "def clean_text_regex(text):\n",
    "    ## Replace emails\n",
    "    text = re.sub(r'\\b[\\w.-]+?@\\w+?\\.\\w+?\\b', '<EMAIL>', text)\n",
    "    ## Replace URLs\n",
    "    text = re.sub(r'https?://\\S+|www\\.\\S+', '<URL>', text)\n",
    "    ## Replace phone numbers\n",
    "    text = re.sub(r'\\+?\\d{1,3}[-\\s]?\\d{10}|\\d{3}-\\d{3}-\\d{4}', '<PHONE>', text)\n",
    "    return text\n",
    "\n",
    "tokens = custom_tokenizer(text)\n",
    "cleaned_with_placeholders = clean_text_regex(text)\n",
    "\n",
    "print(\"Custom Tokens:\\n\", tokens)\n",
    "print(\"Text after regex cleaning:\\n\", cleaned_with_placeholders)\n"
   ]
  }
 ],
 "metadata": {
  "kernelspec": {
   "display_name": "base",
   "language": "python",
   "name": "python3"
  },
  "language_info": {
   "codemirror_mode": {
    "name": "ipython",
    "version": 3
   },
   "file_extension": ".py",
   "mimetype": "text/x-python",
   "name": "python",
   "nbconvert_exporter": "python",
   "pygments_lexer": "ipython3",
   "version": "3.12.9"
  }
 },
 "nbformat": 4,
 "nbformat_minor": 2
}
