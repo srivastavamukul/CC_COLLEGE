{
 "cells": [
  {
   "cell_type": "code",
   "execution_count": 44,
   "id": "cf9033a3",
   "metadata": {},
   "outputs": [],
   "source": [
    "paragraph=\"\"\"Marvel's Daredevil follows the story of Matt Murdock, a blind lawyer by day and vigilante by night, who fights crime in Hell’s Kitchen, New York.\n",
    "Blinded in an accident as a child, Matt gains heightened senses that allow him to \"see\" the world in unique ways.\n",
    "The series explores deep moral dilemmas, gritty street justice, and the balance between law and vigilantism.\n",
    "With its dark tone, compelling character arcs, and intense action sequences, Daredevil stands out as one of Marvel’s most critically acclaimed shows.\n",
    "It dives into themes of faith, justice, and the personal cost of heroism.\"\"\""
   ]
  },
  {
   "cell_type": "markdown",
   "id": "6eddb959",
   "metadata": {},
   "source": [
    "Lowercase + Remove Punctuation using re"
   ]
  },
  {
   "cell_type": "code",
   "execution_count": 45,
   "id": "9e2e2e34",
   "metadata": {},
   "outputs": [
    {
     "name": "stdout",
     "output_type": "stream",
     "text": [
      "marvels daredevil follows the story of matt murdock a blind lawyer by day and vigilante by night who fights crime in hell’s kitchen new york\n",
      "blinded in an accident as a child matt gains heightened senses that allow him to see the world in unique ways\n",
      "the series explores deep moral dilemmas gritty street justice and the balance between law and vigilantism\n",
      "with its dark tone compelling character arcs and intense action sequences daredevil stands out as one of marvel’s most critically acclaimed shows\n",
      "it dives into themes of faith justice and the personal cost of heroism\n"
     ]
    }
   ],
   "source": [
    "import re\n",
    "import string\n",
    "import nltk\n",
    "cleaned_text = re.sub(rf\"[{re.escape(string.punctuation)}]\", \"\", paragraph.lower())\n",
    "print(cleaned_text)"
   ]
  },
  {
   "cell_type": "markdown",
   "id": "30694b26",
   "metadata": {},
   "source": [
    "Tokenize"
   ]
  },
  {
   "cell_type": "code",
   "execution_count": 46,
   "id": "bbcddccd",
   "metadata": {},
   "outputs": [
    {
     "name": "stdout",
     "output_type": "stream",
     "text": [
      "Words:  ['marvels', 'daredevil', 'follows', 'the', 'story', 'of', 'matt', 'murdock', 'a', 'blind', 'lawyer', 'by', 'day', 'and', 'vigilante', 'by', 'night', 'who', 'fights', 'crime', 'in', 'hell', '’', 's', 'kitchen', 'new', 'york', 'blinded', 'in', 'an', 'accident', 'as', 'a', 'child', 'matt', 'gains', 'heightened', 'senses', 'that', 'allow', 'him', 'to', 'see', 'the', 'world', 'in', 'unique', 'ways', 'the', 'series', 'explores', 'deep', 'moral', 'dilemmas', 'gritty', 'street', 'justice', 'and', 'the', 'balance', 'between', 'law', 'and', 'vigilantism', 'with', 'its', 'dark', 'tone', 'compelling', 'character', 'arcs', 'and', 'intense', 'action', 'sequences', 'daredevil', 'stands', 'out', 'as', 'one', 'of', 'marvel', '’', 's', 'most', 'critically', 'acclaimed', 'shows', 'it', 'dives', 'into', 'themes', 'of', 'faith', 'justice', 'and', 'the', 'personal', 'cost', 'of', 'heroism']\n",
      "Sentence:  [\"Marvel's Daredevil follows the story of Matt Murdock, a blind lawyer by day and vigilante by night, who fights crime in Hell’s Kitchen, New York.\", 'Blinded in an accident as a child, Matt gains heightened senses that allow him to \"see\" the world in unique ways.', 'The series explores deep moral dilemmas, gritty street justice, and the balance between law and vigilantism.', 'With its dark tone, compelling character arcs, and intense action sequences, Daredevil stands out as one of Marvel’s most critically acclaimed shows.', 'It dives into themes of faith, justice, and the personal cost of heroism.']\n"
     ]
    }
   ],
   "source": [
    "from nltk.tokenize import word_tokenize, sent_tokenize\n",
    "words = word_tokenize(cleaned_text)\n",
    "sentences = sent_tokenize(paragraph)\n",
    "print(\"Words: \", words)\n",
    "print(\"Sentence: \", sentences)"
   ]
  },
  {
   "cell_type": "markdown",
   "id": "4d0a6f26",
   "metadata": {},
   "source": [
    "split() vs word_tokenize()"
   ]
  },
  {
   "cell_type": "code",
   "execution_count": 47,
   "id": "e17445e5",
   "metadata": {},
   "outputs": [
    {
     "name": "stdout",
     "output_type": "stream",
     "text": [
      "Python split(): ['marvels', 'daredevil', 'follows', 'the', 'story', 'of', 'matt', 'murdock', 'a', 'blind', 'lawyer', 'by', 'day', 'and', 'vigilante', 'by', 'night', 'who', 'fights', 'crime', 'in', 'hell’s', 'kitchen', 'new', 'york', 'blinded', 'in', 'an', 'accident', 'as', 'a', 'child', 'matt', 'gains', 'heightened', 'senses', 'that', 'allow', 'him', 'to', 'see', 'the', 'world', 'in', 'unique', 'ways', 'the', 'series', 'explores', 'deep', 'moral', 'dilemmas', 'gritty', 'street', 'justice', 'and', 'the', 'balance', 'between', 'law', 'and', 'vigilantism', 'with', 'its', 'dark', 'tone', 'compelling', 'character', 'arcs', 'and', 'intense', 'action', 'sequences', 'daredevil', 'stands', 'out', 'as', 'one', 'of', 'marvel’s', 'most', 'critically', 'acclaimed', 'shows', 'it', 'dives', 'into', 'themes', 'of', 'faith', 'justice', 'and', 'the', 'personal', 'cost', 'of', 'heroism']\n",
      "NLTK word_tokenize(): ['marvels', 'daredevil', 'follows', 'the', 'story', 'of', 'matt', 'murdock', 'a', 'blind', 'lawyer', 'by', 'day', 'and', 'vigilante', 'by', 'night', 'who', 'fights', 'crime', 'in', 'hell', '’', 's', 'kitchen', 'new', 'york', 'blinded', 'in', 'an', 'accident', 'as', 'a', 'child', 'matt', 'gains', 'heightened', 'senses', 'that', 'allow', 'him', 'to', 'see', 'the', 'world', 'in', 'unique', 'ways', 'the', 'series', 'explores', 'deep', 'moral', 'dilemmas', 'gritty', 'street', 'justice', 'and', 'the', 'balance', 'between', 'law', 'and', 'vigilantism', 'with', 'its', 'dark', 'tone', 'compelling', 'character', 'arcs', 'and', 'intense', 'action', 'sequences', 'daredevil', 'stands', 'out', 'as', 'one', 'of', 'marvel', '’', 's', 'most', 'critically', 'acclaimed', 'shows', 'it', 'dives', 'into', 'themes', 'of', 'faith', 'justice', 'and', 'the', 'personal', 'cost', 'of', 'heroism']\n"
     ]
    }
   ],
   "source": [
    "split_words = cleaned_text.split()\n",
    "print(\"Python split():\", split_words)\n",
    "print(\"NLTK word_tokenize():\", words)"
   ]
  },
  {
   "cell_type": "markdown",
   "id": "d77043ba",
   "metadata": {},
   "source": [
    "split() splits only on whitespace, while word_tokenize() handles punctuation and contractions better."
   ]
  },
  {
   "cell_type": "markdown",
   "id": "5640bc54",
   "metadata": {},
   "source": [
    "Remove Stopwords"
   ]
  },
  {
   "cell_type": "code",
   "execution_count": 48,
   "id": "01d7b2ce",
   "metadata": {},
   "outputs": [
    {
     "name": "stdout",
     "output_type": "stream",
     "text": [
      "Stop-words:  {'of', 'below', 'only', 'yours', \"you're\", 'm', 'to', 'and', \"they'll\", 'isn', 'up', 'won', 'through', 'has', \"they're\", 'these', 'why', 'any', 'once', \"doesn't\", 'their', 'did', 'we', 'under', 'being', \"mightn't\", 'is', 'how', 'themselves', 'but', \"it's\", 'out', 'ain', 'be', 'am', 'nor', 'they', 'as', 'are', 'can', 'couldn', \"we're\", 'just', 'not', 'doesn', 'haven', \"aren't\", \"needn't\", 'into', \"we'd\", \"couldn't\", 'shan', 'those', 'where', 'between', 'mightn', 'itself', 'no', 'each', 'what', 'hers', 'were', 's', 'that', 'he', \"i'd\", \"wouldn't\", 'my', 'hadn', 'himself', \"hadn't\", 'needn', 'him', 'over', 'does', 'weren', \"he's\", 'had', 'his', 'aren', 'too', 'down', \"he'll\", 'you', 'while', \"won't\", 'on', 'other', 'shouldn', \"wasn't\", 'a', 'll', 'now', 'because', 'in', 'until', 'when', 'most', 'its', 'which', 'from', 'ourselves', \"they've\", 'again', 'her', 'both', 'having', \"i'll\", 't', \"we've\", 'more', 'same', 'myself', 'here', 'for', 'during', \"she'd\", \"you've\", 'then', 'before', \"that'll\", \"i've\", \"they'd\", \"isn't\", 'hasn', \"weren't\", \"hasn't\", \"don't\", \"you'd\", 'didn', 'own', \"haven't\", 'doing', 'after', \"it'd\", 'theirs', \"we'll\", 'some', 'will', 'do', \"she'll\", 'or', 'few', 'whom', 'should', 'been', 'against', 'i', \"mustn't\", 're', 'there', 'was', 'o', 'don', 'herself', 'who', \"you'll\", 'this', 'off', 'at', \"should've\", 'yourself', 'ours', \"shan't\", 've', 'ma', 'if', 'with', 'so', \"shouldn't\", 'than', 'it', 'me', 'very', 'our', 'she', 'wouldn', \"i'm\", 'y', 'about', 'd', 'mustn', \"he'd\", 'wasn', 'your', 'yourselves', 'them', 'an', 'further', \"didn't\", \"she's\", 'the', 'have', 'such', \"it'll\", 'above', 'all', 'by'}\n",
      "Filtered-words:  ['marvels', 'daredevil', 'follows', 'story', 'matt', 'murdock', 'blind', 'lawyer', 'day', 'vigilante', 'night', 'fights', 'crime', 'hell', '’', 'kitchen', 'new', 'york', 'blinded', 'accident', 'child', 'matt', 'gains', 'heightened', 'senses', 'allow', 'see', 'world', 'unique', 'ways', 'series', 'explores', 'deep', 'moral', 'dilemmas', 'gritty', 'street', 'justice', 'balance', 'law', 'vigilantism', 'dark', 'tone', 'compelling', 'character', 'arcs', 'intense', 'action', 'sequences', 'daredevil', 'stands', 'one', 'marvel', '’', 'critically', 'acclaimed', 'shows', 'dives', 'themes', 'faith', 'justice', 'personal', 'cost', 'heroism']\n"
     ]
    }
   ],
   "source": [
    "from nltk.corpus import stopwords\n",
    "stop_words = set(stopwords.words('english'))\n",
    "filtered_words = [word for word in words if word not in stop_words]\n",
    "print(\"Stop-words: \", stop_words)\n",
    "print(\"Filtered-words: \", filtered_words)"
   ]
  },
  {
   "cell_type": "markdown",
   "id": "442fa812",
   "metadata": {},
   "source": [
    "Word Frequency (excluding stopwords)"
   ]
  },
  {
   "cell_type": "code",
   "execution_count": 49,
   "id": "28938107",
   "metadata": {},
   "outputs": [
    {
     "name": "stdout",
     "output_type": "stream",
     "text": [
      "Word Frequencies: Counter({'daredevil': 2, 'matt': 2, '’': 2, 'justice': 2, 'marvels': 1, 'follows': 1, 'story': 1, 'murdock': 1, 'blind': 1, 'lawyer': 1, 'day': 1, 'vigilante': 1, 'night': 1, 'fights': 1, 'crime': 1, 'hell': 1, 'kitchen': 1, 'new': 1, 'york': 1, 'blinded': 1, 'accident': 1, 'child': 1, 'gains': 1, 'heightened': 1, 'senses': 1, 'allow': 1, 'see': 1, 'world': 1, 'unique': 1, 'ways': 1, 'series': 1, 'explores': 1, 'deep': 1, 'moral': 1, 'dilemmas': 1, 'gritty': 1, 'street': 1, 'balance': 1, 'law': 1, 'vigilantism': 1, 'dark': 1, 'tone': 1, 'compelling': 1, 'character': 1, 'arcs': 1, 'intense': 1, 'action': 1, 'sequences': 1, 'stands': 1, 'one': 1, 'marvel': 1, 'critically': 1, 'acclaimed': 1, 'shows': 1, 'dives': 1, 'themes': 1, 'faith': 1, 'personal': 1, 'cost': 1, 'heroism': 1})\n"
     ]
    }
   ],
   "source": [
    "from collections import Counter\n",
    "word_freq = Counter(filtered_words)\n",
    "print(\"Word Frequencies:\", word_freq)"
   ]
  },
  {
   "cell_type": "markdown",
   "id": "319eae09",
   "metadata": {},
   "source": [
    "Regex, Stemming & Lemmatization"
   ]
  },
  {
   "cell_type": "markdown",
   "id": "7d8c5b25",
   "metadata": {},
   "source": [
    "Words with Only Alphabets"
   ]
  },
  {
   "cell_type": "code",
   "execution_count": 50,
   "id": "73462d0c",
   "metadata": {},
   "outputs": [],
   "source": [
    "alpha_words = re.findall(r'\\b[a-zA-Z]+\\b', cleaned_text)"
   ]
  },
  {
   "cell_type": "markdown",
   "id": "8303daf2",
   "metadata": {},
   "source": [
    "Remove Stopwords"
   ]
  },
  {
   "cell_type": "code",
   "execution_count": 51,
   "id": "88be203c",
   "metadata": {},
   "outputs": [],
   "source": [
    "filtered_alpha = [word for word in alpha_words if word not in stop_words]"
   ]
  },
  {
   "cell_type": "markdown",
   "id": "44911947",
   "metadata": {},
   "source": [
    "Stemming"
   ]
  },
  {
   "cell_type": "code",
   "execution_count": 52,
   "id": "b9b89aa1",
   "metadata": {},
   "outputs": [],
   "source": [
    "from nltk.stem import PorterStemmer\n",
    "stemmer = PorterStemmer()\n",
    "stemmed = [stemmer.stem(word) for word in filtered_alpha]"
   ]
  },
  {
   "cell_type": "markdown",
   "id": "7389e0d2",
   "metadata": {},
   "source": [
    "Lemmatization"
   ]
  },
  {
   "cell_type": "code",
   "execution_count": 54,
   "id": "0c61eeee",
   "metadata": {},
   "outputs": [
    {
     "name": "stderr",
     "output_type": "stream",
     "text": [
      "[nltk_data] Downloading package wordnet to\n",
      "[nltk_data]     C:\\Users\\ASUS\\AppData\\Roaming\\nltk_data...\n",
      "[nltk_data]   Package wordnet is already up-to-date!\n"
     ]
    }
   ],
   "source": [
    "from nltk.stem import WordNetLemmatizer\n",
    "nltk.download('wordnet')\n",
    "lemmatizer = WordNetLemmatizer()\n",
    "lemmatized = [lemmatizer.lemmatize(word) for word in filtered_alpha]"
   ]
  },
  {
   "cell_type": "markdown",
   "id": "102397fe",
   "metadata": {},
   "source": [
    "Comparison"
   ]
  },
  {
   "cell_type": "code",
   "execution_count": 55,
   "id": "462cba0e",
   "metadata": {},
   "outputs": [
    {
     "name": "stdout",
     "output_type": "stream",
     "text": [
      "Stemmed: ['marvel', 'daredevil', 'follow', 'stori', 'matt', 'murdock', 'blind', 'lawyer', 'day', 'vigilant', 'night', 'fight', 'crime', 'hell', 'kitchen', 'new', 'york', 'blind', 'accid', 'child', 'matt', 'gain', 'heighten', 'sens', 'allow', 'see', 'world', 'uniqu', 'way', 'seri', 'explor', 'deep', 'moral', 'dilemma', 'gritti', 'street', 'justic', 'balanc', 'law', 'vigilant', 'dark', 'tone', 'compel', 'charact', 'arc', 'intens', 'action', 'sequenc', 'daredevil', 'stand', 'one', 'marvel', 'critic', 'acclaim', 'show', 'dive', 'theme', 'faith', 'justic', 'person', 'cost', 'heroism']\n",
      "Lemmatized: ['marvel', 'daredevil', 'follows', 'story', 'matt', 'murdock', 'blind', 'lawyer', 'day', 'vigilante', 'night', 'fight', 'crime', 'hell', 'kitchen', 'new', 'york', 'blinded', 'accident', 'child', 'matt', 'gain', 'heightened', 'sens', 'allow', 'see', 'world', 'unique', 'way', 'series', 'explores', 'deep', 'moral', 'dilemma', 'gritty', 'street', 'justice', 'balance', 'law', 'vigilantism', 'dark', 'tone', 'compelling', 'character', 'arc', 'intense', 'action', 'sequence', 'daredevil', 'stand', 'one', 'marvel', 'critically', 'acclaimed', 'show', 'dive', 'theme', 'faith', 'justice', 'personal', 'cost', 'heroism']\n"
     ]
    }
   ],
   "source": [
    "print(\"Stemmed:\", stemmed)\n",
    "print(\"Lemmatized:\", lemmatized)"
   ]
  },
  {
   "cell_type": "markdown",
   "id": "078f6255",
   "metadata": {},
   "source": [
    "We use lemmatization when grammar and context matter (int NLP Models), and use stemming for quick, rule-based truncation."
   ]
  },
  {
   "cell_type": "markdown",
   "id": "de81ef70",
   "metadata": {},
   "source": [
    "Bag of Words and TF-IDF"
   ]
  },
  {
   "cell_type": "code",
   "execution_count": 56,
   "id": "0eeabfbd",
   "metadata": {},
   "outputs": [
    {
     "name": "stdout",
     "output_type": "stream",
     "text": [
      "Text 1 Top TF-IDF keywords: ['revolutionized', 'have', 'communication']\n",
      "Text 2 Top TF-IDF keywords: ['major', 'life', 'is']\n",
      "Text 3 Top TF-IDF keywords: ['photography', 'new', 'make']\n"
     ]
    }
   ],
   "source": [
    "from sklearn.feature_extraction.text import CountVectorizer, TfidfVectorizer\n",
    "\n",
    "texts = [\n",
    "    \"Smartphones have revolutionized communication.\",\n",
    "    \"Battery life is a major concern in smartphones.\",\n",
    "    \"New camera features make photography easier.\"\n",
    "]\n",
    "\n",
    "## Bag of Words\n",
    "cv = CountVectorizer()\n",
    "cv_matrix = cv.fit_transform(texts)\n",
    "\n",
    "## TF-IDF\n",
    "tfidf = TfidfVectorizer()\n",
    "tfidf_matrix = tfidf.fit_transform(texts)\n",
    "\n",
    "## Top 3 keywords from each text\n",
    "\n",
    "import numpy as np\n",
    "\n",
    "feature_names = tfidf.get_feature_names_out()\n",
    "for i, row in enumerate(tfidf_matrix.toarray()):\n",
    "    top_indices = np.argsort(row)[-3:][::-1]\n",
    "    print(f\"Text {i+1} Top TF-IDF keywords:\", [feature_names[i] for i in top_indices])\n"
   ]
  },
  {
   "cell_type": "markdown",
   "id": "c6f8ff8d",
   "metadata": {},
   "source": [
    "Similarity Metrics"
   ]
  },
  {
   "cell_type": "code",
   "execution_count": 57,
   "id": "8deeb559",
   "metadata": {},
   "outputs": [],
   "source": [
    "text1 = \"Artificial Intelligence is transforming the world of technology.\"\n",
    "text2 = \"Blockchain ensures secure and decentralized transactions.\"\n",
    "\n",
    "## Preprocess\n",
    "set1 = set(word_tokenize(re.sub(r\"[^\\w\\s]\", \"\", text1.lower())))\n",
    "set2 = set(word_tokenize(re.sub(r\"[^\\w\\s]\", \"\", text2.lower())))\n",
    "\n",
    "## Jaccard Similarity\n",
    "jaccard_sim = len(set1 & set2) / len(set1 | set2)\n",
    "\n",
    "## Cosine Similarity\n",
    "from sklearn.metrics.pairwise import cosine_similarity\n",
    "vec = TfidfVectorizer()\n",
    "tfidf_sim = vec.fit_transform([text1, text2])\n",
    "cosine_sim = cosine_similarity(tfidf_sim[0:1], tfidf_sim[1:2])[0][0]"
   ]
  },
  {
   "cell_type": "markdown",
   "id": "2daac9b3",
   "metadata": {},
   "source": [
    "Jaccard is good for set overlap, while cosine gives better insight for semantic similarity in real language"
   ]
  },
  {
   "cell_type": "markdown",
   "id": "b54ef98e",
   "metadata": {},
   "source": [
    "Sentiment Analysis + Word Cloud"
   ]
  },
  {
   "cell_type": "code",
   "execution_count": 58,
   "id": "59dacfe8",
   "metadata": {},
   "outputs": [
    {
     "data": {
      "image/png": "[encoded data removed]",
      "text/plain": [
       "<Figure size 640x480 with 1 Axes>"
      ]
     },
     "metadata": {},
     "output_type": "display_data"
    }
   ],
   "source": [
    "from textblob import TextBlob\n",
    "from wordcloud import WordCloud\n",
    "import matplotlib.pyplot as plt\n",
    "\n",
    "review = \"The phone has excellent battery life and a beautiful display.\"\n",
    "blob = TextBlob(review)\n",
    "polarity = blob.sentiment.polarity\n",
    "\n",
    "# Classification\n",
    "if polarity > 0:\n",
    "    sentiment = \"Positive\"\n",
    "elif polarity < 0:\n",
    "    sentiment = \"Negative\"\n",
    "else:\n",
    "    sentiment = \"Neutral\"\n",
    "\n",
    "# Word Cloud\n",
    "wordcloud = WordCloud().generate(review)\n",
    "plt.imshow(wordcloud, interpolation='bilinear')\n",
    "plt.axis(\"off\")\n",
    "plt.show()\n"
   ]
  }
 ],
 "metadata": {
  "kernelspec": {
   "display_name": "base",
   "language": "python",
   "name": "python3"
  },
  "language_info": {
   "codemirror_mode": {
    "name": "ipython",
    "version": 3
   },
   "file_extension": ".py",
   "mimetype": "text/x-python",
   "name": "python",
   "nbconvert_exporter": "python",
   "pygments_lexer": "ipython3",
   "version": "3.12.9"
  }
 },
 "nbformat": 4,
 "nbformat_minor": 5
}
