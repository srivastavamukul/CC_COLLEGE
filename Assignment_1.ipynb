{
 "cells": [
  {
   "cell_type": "markdown",
   "metadata": {},
   "source": [
    "Assingment 1.1: WAP to print your name three times"
   ]
  },
  {
   "cell_type": "code",
   "execution_count": 2,
   "metadata": {},
   "outputs": [
    {
     "name": "stdout",
     "output_type": "stream",
     "text": [
      "Mukul Srivastava\n",
      "Mukul Srivastava\n",
      "Mukul Srivastava\n"
     ]
    }
   ],
   "source": [
    "print(\"Mukul Srivastava\")\n",
    "print(\"Mukul Srivastava\")\n",
    "print(\"Mukul Srivastava\")"
   ]
  },
  {
   "cell_type": "markdown",
   "metadata": {},
   "source": [
    "Assingment 2.1: WAP to add three numbers and print the result."
   ]
  },
  {
   "cell_type": "code",
   "execution_count": 3,
   "metadata": {},
   "outputs": [
    {
     "name": "stdout",
     "output_type": "stream",
     "text": [
      "10  +  1  +  17  =  28\n"
     ]
    }
   ],
   "source": [
    "a = 10\n",
    "b = 1\n",
    "c = 17\n",
    "d = a + b + c\n",
    "print(a, \" + \", b, \" + \", c, \" = \", d)"
   ]
  },
  {
   "cell_type": "markdown",
   "metadata": {},
   "source": [
    "Assingment 2.2: WAP to concatinate three strings and print the result."
   ]
  },
  {
   "cell_type": "code",
   "execution_count": 4,
   "metadata": {},
   "outputs": [
    {
     "name": "stdout",
     "output_type": "stream",
     "text": [
      "Hello  + ' ' +  There  + ', '  General Kenobi  =  Hello There, General Kenobi\n"
     ]
    }
   ],
   "source": [
    "s1 = \"Hello\"\n",
    "s2 = \"There\"\n",
    "s3 = \"General Kenobi\"\n",
    "s4 = s1 + \" \" + s2 + \", \" + s3\n",
    "print(s1, \" + ' ' + \", s2, \" + ', ' \", s3, \" = \", s4)"
   ]
  },
  {
   "cell_type": "markdown",
   "metadata": {},
   "source": [
    "Assingment 4.1: WAP to print the table of 7, 9."
   ]
  },
  {
   "cell_type": "code",
   "execution_count": 5,
   "metadata": {},
   "outputs": [
    {
     "name": "stdout",
     "output_type": "stream",
     "text": [
      "Table of  7  till  12  is:\n",
      "7  x  1  =  7\n",
      "7  x  2  =  14\n",
      "7  x  3  =  21\n",
      "7  x  4  =  28\n",
      "7  x  5  =  35\n",
      "7  x  6  =  42\n",
      "7  x  7  =  49\n",
      "7  x  8  =  56\n",
      "7  x  9  =  63\n",
      "7  x  10  =  70\n",
      "7  x  11  =  77\n",
      "Table of  9  till  12  is:\n",
      "9  x  1  =  9\n",
      "9  x  2  =  18\n",
      "9  x  3  =  27\n",
      "9  x  4  =  36\n",
      "9  x  5  =  45\n",
      "9  x  6  =  54\n",
      "9  x  7  =  63\n",
      "9  x  8  =  72\n",
      "9  x  9  =  81\n",
      "9  x  10  =  90\n",
      "9  x  11  =  99\n"
     ]
    }
   ],
   "source": [
    "limit = int(input(\"Enter the limit for the table to be generated\"))\n",
    "num1 = 7\n",
    "num2 = 9\n",
    "\n",
    "print(\"Table of \", num1, \" till \", limit, \" is:\")\n",
    "for i in range(1, limit):\n",
    "    print(num1, \" x \", i, \" = \", num1*i)\n",
    "\n",
    "print(\"Table of \", num2, \" till \", limit, \" is:\")\n",
    "for i in range(1, limit):\n",
    "    print(num2, \" x \", i, \" = \", num2*i)"
   ]
  },
  {
   "cell_type": "markdown",
   "metadata": {},
   "source": [
    "Assingment 4.2: WAP to print the table of n and n is given by user."
   ]
  },
  {
   "cell_type": "code",
   "execution_count": 6,
   "metadata": {},
   "outputs": [
    {
     "name": "stdout",
     "output_type": "stream",
     "text": [
      "Table of  12  till  12  is:\n",
      "12  x  1  =  12\n",
      "12  x  2  =  24\n",
      "12  x  3  =  36\n",
      "12  x  4  =  48\n",
      "12  x  5  =  60\n",
      "12  x  6  =  72\n",
      "12  x  7  =  84\n",
      "12  x  8  =  96\n",
      "12  x  9  =  108\n",
      "12  x  10  =  120\n",
      "12  x  11  =  132\n"
     ]
    }
   ],
   "source": [
    "num = int(input(\"Enter the number whose table is to be generated:\"))\n",
    "limit = int(input(\"Enter the limit for the table to be generated:\"))\n",
    "\n",
    "print(\"Table of \", num, \" till \", limit, \" is:\")\n",
    "for i in range(1, limit):\n",
    "    print(num, \" x \", i, \" = \", num*i)"
   ]
  },
  {
   "cell_type": "markdown",
   "metadata": {},
   "source": [
    "Assingment 4.3: WAP to add all the numbers from 1 to n and n is given by user."
   ]
  },
  {
   "cell_type": "code",
   "execution_count": 7,
   "metadata": {},
   "outputs": [
    {
     "name": "stdout",
     "output_type": "stream",
     "text": [
      "The sum of first  12  natural numbers is:  66\n"
     ]
    }
   ],
   "source": [
    "num = int(input(\"Enter the number to calculate the sum till:\"))\n",
    "sum = 0\n",
    "\n",
    "for i in range(1, num):\n",
    "    sum += i\n",
    "\n",
    "print(\"The sum of first \", num, \" natural numbers is: \", sum)"
   ]
  },
  {
   "cell_type": "code",
   "execution_count": 8,
   "metadata": {},
   "outputs": [
    {
     "name": "stdout",
     "output_type": "stream",
     "text": [
      "The max of  7 ,  17 ,  23  is  23\n"
     ]
    }
   ],
   "source": [
    "a = 7\n",
    "b = 17\n",
    "c = 23\n",
    "d = max(a, b, c)\n",
    "\n",
    "print(\"The max of \", a, \", \", b, \", \", c, \" is \", d)"
   ]
  },
  {
   "cell_type": "markdown",
   "metadata": {},
   "source": [
    "Assingment 5.2: WAP to add all numbers divisible by 7 and 9 from 1 to n and n is given by the user."
   ]
  },
  {
   "cell_type": "code",
   "execution_count": 9,
   "metadata": {},
   "outputs": [
    {
     "name": "stdout",
     "output_type": "stream",
     "text": [
      "The sum of natural numbers divisible by 7 and 9 till  12  is:  0\n"
     ]
    }
   ],
   "source": [
    "num = int(input(\"Enter the number to calculate the sum till:\"))\n",
    "sum = 0\n",
    "\n",
    "for i in range(1, num):\n",
    "    if i%7==0 and i%9==0:\n",
    "        sum += i\n",
    "\n",
    "print(\"The sum of natural numbers divisible by 7 and 9 till \", limit, \" is: \", sum)"
   ]
  },
  {
   "cell_type": "markdown",
   "metadata": {},
   "source": [
    "    Assingment 5.3: WAP to add all prime numbers from 1 to n and n is given by the user."
   ]
  },
  {
   "cell_type": "code",
   "execution_count": 17,
   "metadata": {},
   "outputs": [
    {
     "name": "stdout",
     "output_type": "stream",
     "text": [
      "Sum of prime numbers less than  10  is:  17\n"
     ]
    }
   ],
   "source": [
    "n = int(input(\"Enter the number to calculate the sum till:\"))\n",
    "sum = 0\n",
    "\n",
    "for i in range(2, n):\n",
    "    flag = True\n",
    "    for j in range(2, int(i / 2) + 1):\n",
    "        if i%j == 0:\n",
    "            flag = False\n",
    "    if flag:\n",
    "        sum += i\n",
    "\n",
    "\n",
    "print(\"Sum of prime numbers less than \", n, \" is: \", sum)"
   ]
  },
  {
   "cell_type": "markdown",
   "metadata": {},
   "source": [
    "Assingment 6.1: WAP using function that add all odd numbers from 1 to n, n is given by the user."
   ]
  },
  {
   "cell_type": "code",
   "execution_count": 12,
   "metadata": {},
   "outputs": [
    {
     "name": "stdout",
     "output_type": "stream",
     "text": [
      "Sum of Odd numbers till  10  is:  25\n"
     ]
    }
   ],
   "source": [
    "def addOdd(limit):\n",
    "    sum = 0\n",
    "    for i in range(1, limit):\n",
    "        if i%2!=0:\n",
    "            sum += i\n",
    "    return sum\n",
    "\n",
    "n = int(input(\"Enter the number to calculate the sum till:\"))\n",
    "sum = addOdd(n)\n",
    "print(\"Sum of Odd numbers till \", n, \" is: \", sum)"
   ]
  },
  {
   "cell_type": "markdown",
   "metadata": {},
   "source": [
    "Assingment 6.2: WAP using function that add all prime numbers from 1 to n, n given by the user."
   ]
  },
  {
   "cell_type": "code",
   "execution_count": 18,
   "metadata": {},
   "outputs": [
    {
     "name": "stdout",
     "output_type": "stream",
     "text": [
      "Sum of Prime numbers till  10  is:  17\n"
     ]
    }
   ],
   "source": [
    "def addPrimes(limit):\n",
    "    sum = 0\n",
    "    for i in range(2, limit):\n",
    "        flag = True\n",
    "        for j in range(2, int(i / 2) + 1):\n",
    "            if i%j == 0:\n",
    "                flag = False\n",
    "        if flag:\n",
    "            sum += i\n",
    "    return sum\n",
    "\n",
    "n = int(input(\"Enter the number to calculate the sum till:\"))\n",
    "sum = addPrimes(n)\n",
    "print(\"Sum of Prime numbers till \", n, \" is: \", sum)"
   ]
  }
 ],
 "metadata": {
  "kernelspec": {
   "display_name": "Python 3",
   "language": "python",
   "name": "python3"
  },
  "language_info": {
   "codemirror_mode": {
    "name": "ipython",
    "version": 3
   },
   "file_extension": ".py",
   "mimetype": "text/x-python",
   "name": "python",
   "nbconvert_exporter": "python",
   "pygments_lexer": "ipython3",
   "version": "3.12.0"
  }
 },
 "nbformat": 4,
 "nbformat_minor": 2
}
