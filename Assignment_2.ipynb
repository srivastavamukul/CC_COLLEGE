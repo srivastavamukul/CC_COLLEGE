{
 "cells": [
  {
   "cell_type": "code",
   "execution_count": 20,
   "metadata": {},
   "outputs": [],
   "source": [
    "import random\n",
    "import math"
   ]
  },
  {
   "cell_type": "markdown",
   "metadata": {},
   "source": [
    "1. Create a List L that is defined as= [10, 20, 30, 40, 50, 60, 70, 80].\\\n",
    "i. WAP to add 200 and 300 to L.\\\n",
    "ii. WAP to remove 10 and 30 from L.\\\n",
    "iii. WAP to sort L in ascending order.\\\n",
    "iv. WAP to sort L in descending order."
   ]
  },
  {
   "cell_type": "code",
   "execution_count": 8,
   "metadata": {},
   "outputs": [
    {
     "name": "stdout",
     "output_type": "stream",
     "text": [
      "[10, 20, 30, 40, 50, 60, 70, 80, 200, 300]\n",
      "[20, 40, 50, 60, 70, 80, 200, 300]\n",
      "[20, 40, 50, 60, 70, 80, 200, 300]\n",
      "[300, 200, 80, 70, 60, 50, 40, 20]\n"
     ]
    }
   ],
   "source": [
    "L = list([10, 20, 30, 40, 50, 60, 70, 80])\n",
    "\n",
    "## i\n",
    "L.append(200)\n",
    "L.append(300)\n",
    "print(L)\n",
    "\n",
    "## ii\n",
    "L.remove(10)\n",
    "L.remove(30)\n",
    "print(L)\n",
    "\n",
    "## iii\n",
    "L.sort()\n",
    "print(L)\n",
    "\n",
    "## iv\n",
    "L.reverse()\n",
    "print(L)"
   ]
  },
  {
   "cell_type": "markdown",
   "metadata": {},
   "source": [
    "2. Create a tuple of marks scored as scores = (45, 89.5, 76, 45.4, 89, 92, 58, 45) and\n",
    "perform the following operations using tuple functions:\\\n",
    "i. Identify the highest score and its index in the tuple.\\\n",
    "ii. Find the lowest score and count how many times it appears.\\\n",
    "iii. Reverse the tuple and return it as a list.\\\n",
    "iv. Check if a specific score ‘76’ (input by the user) is present in the tuple and\n",
    "print its first occurrence index, or a message saying it’s not present."
   ]
  },
  {
   "cell_type": "code",
   "execution_count": 19,
   "metadata": {},
   "outputs": [
    {
     "name": "stdout",
     "output_type": "stream",
     "text": [
      "92\n",
      "45 2\n",
      "[45, 58, 92, 89, 45.4, 76, 89.5, 45]\n",
      "76.0  is at the index  5\n"
     ]
    }
   ],
   "source": [
    "marks = tuple([45, 89.5, 76, 45.4, 89, 92, 58, 45])\n",
    "\n",
    "## i\n",
    "maxMark = max(marks)\n",
    "print(maxMark)\n",
    "\n",
    "## ii\n",
    "minMark = min(marks)\n",
    "minCount = marks.count(minMark)\n",
    "print(minMark, minCount)\n",
    "\n",
    "## iii\n",
    "tupleToList = list(marks)\n",
    "tupleToList.reverse()\n",
    "print(tupleToList)\n",
    "\n",
    "## iv\n",
    "search = float(input(\"Enter the number to search\"))\n",
    "if search in tupleToList:\n",
    "    index = tupleToList.index(search)\n",
    "    print(search, \" is at the index \", index)\n",
    "else :\n",
    "    print(\"Not Found\")"
   ]
  },
  {
   "cell_type": "markdown",
   "metadata": {},
   "source": [
    "3. WAP to create a list of 100 random numbers between 100 and 900. Count and print\n",
    "the:\\\n",
    "i.   All odd numbers\\\n",
    "ii.  All even numbers\\\n",
    "iii. All prime numbers"
   ]
  },
  {
   "cell_type": "code",
   "execution_count": 22,
   "metadata": {},
   "outputs": [
    {
     "name": "stdout",
     "output_type": "stream",
     "text": [
      "[472, 676, 460, 764, 324, 750, 864, 712, 296, 488, 292, 188, 832, 332, 872, 592, 322, 486, 730, 194, 568, 702, 512, 742, 610, 834, 838, 122, 174, 346, 268, 160, 398, 560, 240, 680, 422, 466, 756, 190, 192, 862, 880, 330, 234, 888, 116, 340, 420, 286, 408]\n",
      "[715, 627, 889, 759, 429, 727, 199, 107, 575, 557, 443, 813, 681, 665, 299, 459, 261, 431, 851, 635, 607, 417, 357, 197, 259, 773, 649, 871, 319, 279, 297, 631, 539, 775, 103, 883, 593, 277, 517, 857, 831, 645, 359, 899, 295, 337, 619, 621, 191]\n",
      "[727, 199, 107, 557, 443, 431, 607, 197, 773, 631, 103, 883, 593, 277, 857, 359, 337, 619, 191]\n"
     ]
    }
   ],
   "source": [
    "randomList = random.sample(range(100, 900), k = 100)\n",
    "\n",
    "def isPrime(num):\n",
    "    if num<=1:\n",
    "        return False\n",
    "    for i in range(2, num//2+1):\n",
    "        if num%i == 0:\n",
    "            return False\n",
    "    return True\n",
    "\n",
    "evenList = list(filter(lambda x:x%2 == 0 , randomList))\n",
    "print(evenList)\n",
    "oddList = list(filter(lambda x:x%2 != 0 , randomList))\n",
    "print(oddList)\n",
    "primeList = list(filter(isPrime, randomList))\n",
    "print(primeList)"
   ]
  },
  {
   "cell_type": "markdown",
   "metadata": {},
   "source": [
    "4. Consider the following two sets, A and B, representing scores of two teams in muliple\n",
    "matches. A = {34, 56, 78, 90} and B = {78, 45, 90, 23}\\\n",
    "WAP to perform the following operations using set functions:\\\n",
    "i. Find the unique scores achieved by both teams (union of sets).\\\n",
    "ii. Identify the scores that are common to both teams (intersection of sets).\\\n",
    "iii. Find the scores that are exclusive to each team (symmetric difference).\\\n",
    "iv. Check if the scores of team A are a subset of team B, and if team B's scores are\n",
    "a superset of team A.\\\n",
    "v. Remove a specific score X (input by the user) from set A if it exists. If not, print\n",
    "a message saying it is not present."
   ]
  },
  {
   "cell_type": "code",
   "execution_count": 25,
   "metadata": {},
   "outputs": [
    {
     "name": "stdout",
     "output_type": "stream",
     "text": [
      "{34, 45, 78, 23, 56, 90}\n",
      "{90, 78}\n",
      "{34, 45, 23, 56}\n",
      "False\n",
      "False\n",
      "Updated Set A:  {34, 90, 78}\n"
     ]
    }
   ],
   "source": [
    "setA = set([34, 56, 78, 90])\n",
    "setB = set([78, 45, 90, 23])\n",
    "setUnion = setA.union(setB)\n",
    "print(setUnion)\n",
    "setIntersection = setA.intersection(setB)\n",
    "print(setIntersection)\n",
    "setSymmDiff = setA.symmetric_difference(setB)\n",
    "print(setSymmDiff)\n",
    "isAsubB = setA.issubset(setB)\n",
    "print(isAsubB)\n",
    "isBsubA = setB.issubset(setA)\n",
    "print(isBsubA)\n",
    "X = int(input(\"Enter the number to remove from\"))\n",
    "if X in setA:\n",
    "    setA.remove(X)\n",
    "    print(\"Updated Set A: \", setA)\n",
    "else :\n",
    "    print(X, \" is not in Set A.\")"
   ]
  },
  {
   "cell_type": "markdown",
   "metadata": {},
   "source": [
    "5. Write a program to rename a key city to a locaƟon in the following dictionary.\\\n",
    "sample_dict = {\\\n",
    "    \"name\": \"Kelly\",\\\n",
    "    \"age\": 25,\\\n",
    "    \"salary\": 8000,\\\n",
    "    \"city\": \"New York\"\\\n",
    "}"
   ]
  },
  {
   "cell_type": "code",
   "execution_count": 28,
   "metadata": {},
   "outputs": [
    {
     "name": "stdout",
     "output_type": "stream",
     "text": [
      "{'name': 'Kelly', 'age': 25, 'salary': 8000, 'location': 'New York'}\n"
     ]
    }
   ],
   "source": [
    "sample_dict = {\n",
    "    \"name\": \"Kelly\",\n",
    "    \"age\": 25,\n",
    "    \"salary\": 8000,\n",
    "    \"city\": \"New York\"\n",
    "}\n",
    "\n",
    "sample_dict['location'] = sample_dict.pop('city')\n",
    "print(sample_dict)"
   ]
  }
 ],
 "metadata": {
  "kernelspec": {
   "display_name": "Python 3",
   "language": "python",
   "name": "python3"
  },
  "language_info": {
   "codemirror_mode": {
    "name": "ipython",
    "version": 3
   },
   "file_extension": ".py",
   "mimetype": "text/x-python",
   "name": "python",
   "nbconvert_exporter": "python",
   "pygments_lexer": "ipython3",
   "version": "3.12.0"
  }
 },
 "nbformat": 4,
 "nbformat_minor": 2
}
